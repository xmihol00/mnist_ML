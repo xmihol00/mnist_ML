{
 "cells": [
  {
   "cell_type": "markdown",
   "id": "4b2f6df1",
   "metadata": {},
   "source": [
    "# Basic Neural Network\n",
    "This python notebok contains code for very basic neural network with explanations of the underlining concepts. The network is design to recognize handwritten digits from the MNIST dataset. Each digit is a 28x28 monochrome picture.\n",
    "\n",
    "It is a fully connected neural network programed mainly using numpy and its matrix operations. The code is not written convntionally as you would encounter in popular neural network/machine learning libraries, but hopefuly easier to understand. Slight modifications can be made, so that the network could be used for any reasonable dataset, although the results might not be amazing.\n",
    "\n",
    "### Letarature\n",
    "https://youtube.com/playlist?list=PLZHQObOWTQDNU6R1_67000Dx_ZCJB-3pi\n",
    "\n",
    "https://video1.fit.vutbr.cz/av/records-categ.php?id=1840\n",
    "\n",
    "https://hmkcode.com/ai/backpropagation-step-by-step/"
   ]
  },
  {
   "cell_type": "code",
   "execution_count": 16,
   "id": "e6aa62a3",
   "metadata": {},
   "outputs": [],
   "source": [
    "import idx2numpy\n",
    "import numpy as np\n",
    "import matplotlib.pyplot as plt\n",
    "from datetime import datetime as dt\n",
    "import random as rnd\n",
    "import numpy.typing as npt\n",
    "\n",
    "L1_SIZE = 56\n",
    "L2_SIZE = 28\n",
    "IMAGE_EDGE_SIZE = 28\n",
    "PIXELS_PER_IMAGE = IMAGE_EDGE_SIZE ** 2\n",
    "CLASSES_COUNT = 10\n",
    "ITERATIONS = 500\n",
    "LEARNING_RATE = 0.15"
   ]
  },
  {
   "cell_type": "markdown",
   "id": "cc4f253a",
   "metadata": {},
   "source": [
    "### Helper functions"
   ]
  },
  {
   "cell_type": "code",
   "execution_count": 17,
   "id": "ffc689fa",
   "metadata": {},
   "outputs": [],
   "source": [
    "def one_hot(labels: npt.ArrayLike) -> npt.NDArray:\n",
    "    \"\"\"\n",
    "    Converts a 1D array of labels (the ground truth) to 2D matrix of shape (10, labels.size) as a probability distribution, \n",
    "    where the corresponding row given by the label value has probability of 1.\n",
    "    \n",
    "    :labels: The ground truth.\n",
    "    :return: Encoded values of labels to probability distribution.\n",
    "    \"\"\"\n",
    "    one_hot = np.zeros((10, labels.size))\n",
    "    one_hot[labels, np.arange(labels.size)] = 1\n",
    "    return one_hot\n",
    "\n",
    "def get_accuracy(results: npt.NDArray, labels: npt.ArrayLike) -> float:\n",
    "    \"\"\"\n",
    "    Calculates the accuracy of a neural network from the results of classification by comparing it to the ground truth.\n",
    "\n",
    "    :results: The forward propagation results.\n",
    "    :labels: The ground truth labels.\n",
    "    :return: The accuracy as a real number between 0 and 1. \n",
    "    \"\"\"\n",
    "    return (np.sum(np.argmax(results, 0) == labels) / labels.size)\n",
    "\n",
    "def show_some_mistakes(results: npt.NDArray, labels: npt.ArrayLike, data: npt.NDArray, samples = 10) -> None:\n",
    "    \"\"\"\n",
    "    Plots randomly choosen images, which were not classified correctly.\n",
    "\n",
    "    :results: The forward propagation results.\n",
    "    :labels: The ground truth.\n",
    "    :data: The input data of forward propagation, i.e images.\n",
    "    :samples: The number of shown images, 10 by default.\n",
    "    \"\"\"\n",
    "    results = np.argmax(results, 0)\n",
    "    i = rnd.randint(0, labels.size)\n",
    "    j = 0\n",
    "    while j < samples:\n",
    "        i = (i + 1) % labels.size\n",
    "        if results[i] != labels[i]:\n",
    "            print(\"labeled:\", labels[i], \"-- classified:\", results[i])\n",
    "            plt.imshow(data[:, i].reshape((IMAGE_EDGE_SIZE, IMAGE_EDGE_SIZE)), cmap='gray')\n",
    "            plt.show()\n",
    "            j += 1"
   ]
  },
  {
   "cell_type": "markdown",
   "id": "e74aacbd",
   "metadata": {},
   "source": [
    "### Activation functions\n",
    "These non-linear functions are used on outputs of each layer. Non-linearity is necessary, otherwise creating more layers does not yield better results, the same results could be calculated using just single layer with sufficient number of neurons."
   ]
  },
  {
   "cell_type": "code",
   "execution_count": 18,
   "id": "35d68cff",
   "metadata": {},
   "outputs": [],
   "source": [
    "def ReLU(L: npt.NDArray) -> npt.NDArray:\n",
    "    \"\"\"\n",
    "    Calculates the Rectified Linear Units of a numpy matrix.\n",
    "    \n",
    "    :L: Matrix of values of a hidden layer.\n",
    "    :return: For all nonnegative numbers returns its value, otherwise 0.\n",
    "    \"\"\"\n",
    "    return np.maximum(0, L)\n",
    "\n",
    "def ReLU_deriv(L: npt.NDArray) -> npt.NDArray:\n",
    "    \"\"\"\n",
    "    Calculates the derivation of ReLu function of a numpy matrix.\n",
    "\n",
    "    :L: Matrix of values of a hidden layer.\n",
    "    :return: For all positive numbers returns 1, otherwise 0.\n",
    "    \"\"\"\n",
    "    return L > 0\n",
    "\n",
    "def sigmoid(L: npt.NDArray) -> npt.NDArray:\n",
    "    \"\"\"\n",
    "    Calculates the Sigmoid function of a numpy matrix.\n",
    "    \n",
    "    :L: Values of a hidden layer.\n",
    "    :return: For all indices with value x returns 1 / (1 + e^(-x)).\n",
    "    \"\"\"\n",
    "    return 1 / (1 + np.exp(-L))\n",
    "\n",
    "def sigmoid_deriv(L: npt.NDArray) -> npt.NDArray:\n",
    "    \"\"\"\n",
    "    Calculates the derivative of the Sigmoid function of a numpy matrix.\n",
    "    \n",
    "    :L: Values of a hidden layer.\n",
    "    :return: For all indices with value x returns (1 / (1 + e^(-x))) * (1 - (1 / (1 + e^(-x)))).\n",
    "    \"\"\"\n",
    "    sigm = sigmoid(L)\n",
    "    return sigm * (1 - sigm)\n",
    "\n",
    "def softmax(L: npt.NDArray) -> npt.NDArray:\n",
    "    \"\"\"\n",
    "    Converts a column of N values (in case of digits 10 values) to a probability distribution of N outcomes for each column of a matrix.\n",
    "    Columns shoud be the outputs of a neural network.\n",
    "\n",
    "    :L: Values of an output layer ordered into columns for each sample.\n",
    "    :return: For all indices of the given matrix returns the probability of a given index in its column.\n",
    "    \"\"\"\n",
    "    exp = np.exp(L)\n",
    "    return exp / np.sum(exp, 0)"
   ]
  },
  {
   "cell_type": "markdown",
   "id": "3cb692aa",
   "metadata": {},
   "source": [
    "### Initialization of Weights And Biases, Explanation of Their Arrangement\n",
    "Correct initialization of weights and biases is important as it can have severe impact on the performance of a neural network. Biases are usually initialized with zeros, as is also done here, weights are usually initialized randomly but in a more sofisticated way than how it is done below.\n",
    "\n",
    "The calculation of output values (values of neurons) of a given layer is done in a following way. Given $I$ (let's say 20) input values and $O$ (let's say 10) output values, there is one weight for each input value per each output value (each input value has 10 weights, each output value has 20 weights, if inputs and outputs are nodes and weigths are edges, it is a complete bipartite graph), that is $W_{size} = I_{size} \\cdot O_{size}$ (there are 200 weights). Biases are simplier, there is just one bias per output value (that is 10). First output value is calculated as the sum of all input values multiplied respectively by the first 20 weights and a bias: \n",
    "$$\n",
    "o0 = w0 \\cdot i0 + w1 \\cdot i1 + w2 \\cdot i2 + ... + w19 \\cdot i19 + b0\n",
    "$$\n",
    "Similarly this must be done for the remaining 9 output values.\n",
    "\n",
    "The calculation of all output values can be done simultaneously by a matrix multiplication (by the weights) and addition (of the biases), if the weights, biases and input values are arranged correctly. Input values must be arranged in a column vector (for the example that is 20 values) as well as the biases (10 values). Weights are arranged to a matrix, where the number of columns is the number of input values (that is 20 columns) and the number of rows is the number of output values of the given layer (that is 10). The matrix multiplication must be done in a correct order, so that the dimensions are correctly aligned, that is: \n",
    "$$\n",
    "    O = \n",
    "    W \\times I + B \n",
    "    = \n",
    "    \\begin{bmatrix}\n",
    "        w_{0} & w_{2} & \\cdots & w_{19}\\\\\n",
    "        w_{20} & w_{21} & \\cdots & w_{39}\\\\ \n",
    "        \\vdots & \\vdots & \\ddots & \\vdots\\\\ \n",
    "        w_{80} & w_{81} & \\cdots & w_{99} \n",
    "    \\end{bmatrix}\n",
    "    \\times\n",
    "    \\begin{bmatrix}\n",
    "        i_{0}\\\\\n",
    "        i_{1}\\\\ \n",
    "        \\vdots\\\\ \n",
    "        i_{19}\n",
    "    \\end{bmatrix}\n",
    "    +\n",
    "    \\begin{bmatrix}\n",
    "        b_{0}\\\\\n",
    "        b_{1}\\\\ \n",
    "        \\vdots\\\\ \n",
    "        b_{9}\n",
    "    \\end{bmatrix}\n",
    "    =\n",
    "    \\begin{bmatrix}\n",
    "        o_{0}\\\\\n",
    "        o_{1}\\\\ \n",
    "        \\vdots\\\\ \n",
    "        o_{9}\n",
    "    \\end{bmatrix}\n",
    "$$\n",
    "The output values are then arranged in a column vector (with 10 values), which is convinient, as this vector can be immidiately used as an input vector for next layer. The classification, which a neural network does, is done by chaining these matrix multiplications of each layer.\n",
    "\n",
    "Note, that this input/output column vector holds values just for a single training sample (let's say the input values are values of pixels of a 4 by 5 image). Calculation of outputs for all (or any sufficient number - a batch) training samples simultaneously, as it is needed to perform the learning of a neural network, can be done by stacking more column vectors with values of training samples together, i.e. creating a matrix where each columns represent values for each training sample (let's say 1000 training samples, then the matrix has 20 rows - values of pixels; and 1000 columns - each for one training sample). Also note, that the indexing of scalar values inside matrices changed to a more consistent notation, that is indexing by rows and columns. It is good to notice the relation of $i$, $j$ and $k$ indices.\n",
    "$$\n",
    "    O = \n",
    "    W \\times I + B \n",
    "    = \n",
    "    \\begin{bmatrix}\n",
    "        w_{00} & w_{01} & \\cdots & w_{0j}\\\\\n",
    "        w_{10} & w_{11} & \\cdots & w_{0j}\\\\ \n",
    "        \\vdots & \\vdots & \\ddots & \\vdots\\\\ \n",
    "        w_{i0} & w_{i1} & \\cdots & w_{ij} \n",
    "    \\end{bmatrix}\n",
    "    \\times\n",
    "    \\begin{bmatrix}\n",
    "        i_{00} & i_{01} & \\cdots & i_{0k}\\\\\n",
    "        i_{10} & i_{11} & \\cdots & i_{1k}\\\\ \n",
    "        \\vdots & \\vdots & \\ddots & \\vdots\\\\ \n",
    "        i_{j0} & i_{j1} & \\cdots & i_{jk} \n",
    "    \\end{bmatrix}\n",
    "    +\n",
    "    \\begin{bmatrix}\n",
    "        b_{0}\\\\\n",
    "        b_{1}\\\\ \n",
    "        \\vdots\\\\ \n",
    "        b_{i}\n",
    "    \\end{bmatrix}\n",
    "    =\n",
    "    \\begin{bmatrix}\n",
    "        o_{00} & o_{01} & \\cdots & o_{0k}\\\\\n",
    "        o_{10} & o_{11} & \\cdots & o_{1k}\\\\ \n",
    "        \\vdots & \\vdots & \\ddots & \\vdots\\\\ \n",
    "        o_{i0} & o_{i1} & \\cdots & o_{ik} \n",
    "    \\end{bmatrix}\n",
    "$$"
   ]
  },
  {
   "cell_type": "code",
   "execution_count": 19,
   "id": "565c9303",
   "metadata": {},
   "outputs": [],
   "source": [
    "def weights_init_2L(size: int, input_size = PIXELS_PER_IMAGE, output_size = CLASSES_COUNT) -> tuple:\n",
    "    \"\"\"\n",
    "    Randomly initilizes weights with real numbers between -0.5 and 0.5.\n",
    "\n",
    "    :size: Number of neurons in a hidden layer.\n",
    "    :input_size: Number of input values.\n",
    "    :output_size: Number of neurons in an output layer.\n",
    "    :return: Tuple of randomly initilized weight matrices with real numbers between -0.5 and 0.5.\n",
    "    \"\"\"\n",
    "    # The number of rows of a weight matrix is alligned with the number of columns of the following matrix, as descibed above.\n",
    "    W1 = np.random.rand(size, input_size) - 0.5  # matrix of 'size' rows and 'input_size' columns\n",
    "    W2 = np.random.rand(output_size, size) - 0.5 # matrix of 'output_size' (number of classes, in case of digits - 10) rows and 'size' columns\n",
    "    return W1, W2\n",
    "\n",
    "def weights_init_3L(l1_size: int, l2_size: int, input_size = PIXELS_PER_IMAGE, output_size = CLASSES_COUNT) -> tuple:\n",
    "    \"\"\"\n",
    "    Randomly initilizes weights with real numbers between -0.5 and 0.5.\n",
    "\n",
    "    :l1_size: Number of neurons in a first hidden layer.\n",
    "    :l2_size: Number of neurons in a second hidden layer.\n",
    "    :input_size: Number of input values.\n",
    "    :output_size: Number of neurons in an output layer.\n",
    "    :return: Tuple of randomly initilized weight matrices with real numbers between -0.5 and 0.5.\n",
    "    \"\"\"\n",
    "    # The number of rows of a weight matrix is alligned with the number of columns of the following matrix, as descibed above.\n",
    "    W1 = np.random.rand(l1_size, input_size) - 0.5   # matrix of 'l1_size' rows and 'input_size' columns\n",
    "    W2 = np.random.rand(l2_size, l1_size) - 0.5      # matrix of 'l2_size' rows and 'l1_size' columns\n",
    "    W3 = np.random.rand(output_size, l2_size) - 0.5  # matrix of 'output_size' (number of classes, in case of digits - 10) rows and 'l2_size' columns\n",
    "    return W1, W2, W3\n",
    "\n",
    "def weights_init(sizes: list) -> list:\n",
    "    \"\"\"\n",
    "    Randomly initilizes weights with real numbers between -0.5 and 0.5.\n",
    "\n",
    "    :sizes: List of layer sizes, first value specifies number of input values, last value specifies number of output neurons. \n",
    "            The number of initilizes weight matrices is one less than lenght of the given list.\n",
    "    :return: List of randomly initilized weight matrices with real numbers between -0.5 and 0.5.\n",
    "    \"\"\"\n",
    "    weights = [] \n",
    "    for i in range(len(sizes) - 1):\n",
    "        # The number of rows of a weight matrix is alligned with the number of columns of the following matrix, as descibed above.\n",
    "        weights.append(np.random.rand(sizes[i + 1], sizes[i]) - 0.5)\n",
    "    return weights\n",
    "\n",
    "def biases_init_2L(size: int, output_size = 10) -> tuple:\n",
    "    \"\"\"\n",
    "    Initilizes two bias column vectors with zeros.\n",
    "\n",
    "    :size: Number of neurons in a hidden layer.\n",
    "    :output_size: Number of neurons in an output layer.\n",
    "    :return: Tuple of zero initilized bias vectors.\n",
    "    \"\"\"\n",
    "    # Biases are column vectors, in numpy those are matrices with given number of rows and only one column.\n",
    "    B1 = np.zeros((size, 1))          # matrix of 'size' rows and only one column\n",
    "    B2 = np.zeros((output_size, 1))   # matrix of 'output_size' rows and only one column\n",
    "    return B1, B2\n",
    "\n",
    "def biases_init_3L(l1_size, l2_size, output_size = CLASSES_COUNT):\n",
    "    \"\"\"\n",
    "    Initilizes three bias column vectors with zeros.\n",
    "\n",
    "    :l1_size: Number of neurons in a first hidden layer.\n",
    "    :l2_size: Number of neurons in a second hidden layer.\n",
    "    :output_size: Number of neurons in an output layer.\n",
    "    :return: Tuple of zero initilized bias vectors.\n",
    "    \"\"\"\n",
    "    # Biases are column vectors, in numpy those are matrices with given number of rows and only one column.\n",
    "    B1 = np.zeros((l1_size, 1))      # One bias for each neuron in the first hidden layer.\n",
    "    B2 = np.zeros((l2_size, 1))      # One bias for each neuron in the second hidden layer.\n",
    "    B3 = np.zeros((output_size, 1))  # One bias for each neuron in the output layer.\n",
    "    return B1, B2, B3\n",
    "\n",
    "def biases_init(sizes: list) -> tuple:\n",
    "    \"\"\"\n",
    "    Initilizes bias column vectors with zeros.\n",
    "\n",
    "    :size: List of layer sizes, first value specifies number of input values, last value specifies number of output neurons. \n",
    "           The number of initilizes weight matrices is one less than lenght of the given list.\n",
    "    :return: List of zero initilized bias vectors.\n",
    "    \"\"\"\n",
    "    biases = []\n",
    "    # Biases are column vectors, in numpy those are matrices with given number of rows and only one column.\n",
    "    for i in range(1, len(sizes)): # starting from 1, skipping the input value size\n",
    "        biases.append(np.zeros((sizes[i], 1)))  \n",
    "    return biases"
   ]
  },
  {
   "cell_type": "markdown",
   "id": "f3b90ee7",
   "metadata": {},
   "source": [
    "### Forward propagation\n",
    "Forward propagation is an algorithm, which calculates the output of a neural network for given input values. There are three operations successively performed for each layer, those are:\n",
    "1. the matrix of input values or the output from previous layer is multiplied by the weight matrix of the respective layer,\n",
    "2. biases of the respective layer are added to the result of matrix multiplication,\n",
    "3. an activation functions is applied to the result.\n",
    "\n",
    "The output values of a neural network with two hidden layer using ReLU as an activation function and an output layer with Softmax activation function would look like:\n",
    "$$\n",
    "O = softmax(W_3 \\times ReLU(W_2 \\times ReLU(W_1 \\times I + B_1) + B_2) + B_3)\n",
    "$$\n",
    "\n",
    "Note that, on a trained neural network the resuts of any hidden layer can be discarder, after they were used for calculating the results of a next hidden layer, as only the results of the output layer are needed. But to train a neural network, values of all hiden layers must be stored. These values are then used to improve the weights and biases of the respective layer using algorithms called backpropagation and gradient descend, see below."
   ]
  },
  {
   "cell_type": "code",
   "execution_count": 20,
   "id": "f6dbe149",
   "metadata": {},
   "outputs": [],
   "source": [
    "def forward_prop_2L(W1: npt.NDArray, W2: npt.NDArray, B1: npt.ArrayLike, B2: npt.ArrayLike, training_data: npt.ArrayLike) -> tuple:\n",
    "    \"\"\"\n",
    "    Classifies all training samples in to classes according to the given weights and biases.\n",
    "\n",
    "    :W1: First layer weight matrix.\n",
    "    :W2: Second layer weight matrix.\n",
    "    :B1: First layer bias column vector.\n",
    "    :B2: Second layer bias column vector.\n",
    "    :training_data: Training samples, each column represents one training sample.\n",
    "    :return: Tuple of matrices with values for each layer.\n",
    "    \"\"\"\n",
    "    L1 = ReLU(W1.dot(training_data) + B1) # L1 shape is: rows = W1.rows, cols = training_data.cols.\n",
    "    L2 = softmax(W2.dot(L1) + B2)         # L2 shape is: rows = W2.rows (10 for digit classification), cols = training_data.cols.\n",
    "    return L1, L2\n",
    "\n",
    "def forward_prop_3L(W1: npt.NDArray, W2: npt.NDArray, W3: npt.NDArray, B1: npt.ArrayLike, B2: npt.ArrayLike, B3: npt.ArrayLike, training_data: npt.NDArray) -> tuple:\n",
    "    \"\"\"\n",
    "    Classifies all training samples in to classes according to the given weights and biases.\n",
    "\n",
    "    :W1: First layer weight matrix.\n",
    "    :W2: Second layer weight matrix.\n",
    "    :W3: Third layer weight matrix.\n",
    "    :B1: First layer bias column vector.\n",
    "    :B2: Second layer bias column vector.\n",
    "    :B3: Third layer bias column vector.\n",
    "    :training_data: Training samples, each column represents one training sample.\n",
    "    :return: Tuple of matrices with values for each layer.\n",
    "    \"\"\"\n",
    "    Z1 = W1.dot(training_data) + B1 # Matrix multiplication of the training samples and first layer weights with addition of biases. The calculated matrix shape is: rows = W1.rows, cols = training_data.cols.\n",
    "    L1 = ReLU(Z1)                   # Nonlinear activation function applied on the first layer values. The shape of the resulting matrix is the stays the same.\n",
    "    Z2 = W2.dot(L1) + B2            # Matrix multiplication of the first layer values and second layer weights with addition of biases. The calculated matrix shape is: rows = W2.rows, cols = training_data.cols.\n",
    "    L2 = ReLU(Z2)                   # Nonlinear activation function applied on the second layer values. The shape of the resulting matrix is the stays the same.\n",
    "    Z3 = W3.dot(L2) + B3            # Matrix multiplication of the second layer values and third layer weights with addition of biases. The calculated matrix shape is: rows = W3.rows, cols = training_data.cols.\n",
    "    L3 = softmax(Z3)                # Transformation of the third layer outputs to a probability distribution. The shape of the resulting matrix is the stays the same.\n",
    "    return L1, L2, L3\n",
    "\n",
    "def forward_prop(weights: npt.NDArray, biases: npt.ArrayLike, activations: list, training_data: npt.NDArray) -> list:\n",
    "    \"\"\"\n",
    "    Classifies all training samples in to classes according to the given weights and biases.\n",
    "\n",
    "    :weights: List of weight matrices.\n",
    "    :biases: List of bias column vectors.\n",
    "    :activations: List of nonlinear activation functions.\n",
    "    :training_data: Training samples, each column represents one training sample.\n",
    "    :return: List of matrices with values for each layer.\n",
    "    \"\"\"\n",
    "    layers = []\n",
    "    input = training_data\n",
    "    for i in range(len(weights)):\n",
    "        layers.append(activations[i](weights[i].dot(input) + biases[i])) # Matrix multiplication of the Nth layer and weights of the N+1th layer with addition of biases and aplication of nonlinear activation function.\n",
    "        input = layers[i]   # hold the current layer values for next iteration\n",
    "    \n",
    "    return layers"
   ]
  },
  {
   "cell_type": "markdown",
   "id": "317fdef0",
   "metadata": {},
   "source": [
    "### Backpropagation\n",
    "Backpropagation is an algorithm, which calculates derivatives of the loss function with respect to all weight and biases, i.e. calculating the gradients. The best lost function used in classification to muliple classes (digits in this case) is accoring to maximum likelihood the Cross-Entropy function.\n",
    "\n",
    "Given the example above the value of the Cross-Entropy function is caluclated as folows:\n",
    "$$\n",
    "\\mathbf{O} = softmax(\\mathbf{W_3} \\times ReLU(\\mathbf{W_2} \\times ReLU(\\mathbf{W_1} \\times \\mathbf{I} + B_1) + B_2) + B_3)\n",
    "$$\n",
    "$$\n",
    "loss = cross\\_entropy(\\mathbf{O}, \\mathbf{L}) =     \n",
    "    \\begin{bmatrix}\n",
    "        -\\sum_{n=0}^{i}{o_{n0} \\cdot log(l_{n0})} & -\\sum_{n=0}^{i}{o_{n1} \\cdot log(l_{n1})} & \\cdots & -\\sum_{n=0}^{i}{o_{nk} \\cdot log(l_{nk})}\n",
    "    \\end{bmatrix}\n",
    "$$\n",
    "$\\mathbf{O}$ are the outputs of the neural network and $\\mathbf{L}$ are the labels with expected values, also known as the ground truth."
   ]
  },
  {
   "cell_type": "code",
   "execution_count": 21,
   "id": "8a41a36e",
   "metadata": {},
   "outputs": [],
   "source": [
    "def back_prop_2L(L1: npt.NDArray, L2: npt.NDArray, W2: npt.NDArray, training_data: npt.NDArray, one_hot_labels: npt.NDArray) -> tuple:\n",
    "    \"\"\"\n",
    "    Calculates weight and bias gradients for all layers.\n",
    "\n",
    "    :L1: Matrix of first layer values.\n",
    "    :L2: Matrix of second layer values.\n",
    "    :W2: Matrix of second layer weights.\n",
    "    :training_data: Training samples, each column represents one training sample.\n",
    "    :one_hot_labels: Encoded ground truth labels to probabilty distribution.\n",
    "    :return: Tuple of matrices with weight and bias gradients for each layer.\n",
    "    \"\"\"\n",
    "    m = one_hot_labels.shape[1] # The number of training samples. \n",
    "    dL2 = (L2 - one_hot_labels) / m   # Calculating errors with matrix subtractions between the classified values and the ground truth. Subtraction does not change the shape of the resulting matrix.\n",
    "    dL1 = W2.T.dot(dL2) * ReLU_deriv(L1) # Back propagating the errors from output layer to the hidden layer by matrix multiplication of the transponed weight matrix and errors multiplied by the ReLU derivation. The calculated matrix shape is: rows: W2.cols == W1.rows (W2 is transposed), cols = one_hot_labels.cols (number of training samples).\n",
    "    dW2 = dL2.dot(L1.T)     # Matrix multiplication of the output layer errors and hidden layer values normalized by the number of training samples. The calculated matrix shape is: rows = one_hot_labels.rows == W2.rows (10 in case of digit classification), cols = L1.rows == W2.cols (L1 is transposed).\n",
    "    dB2 = np.sum(dL2, 1, keepdims=True)  # Arithmetic average of the errors. The result is a scalar value.\n",
    "    dW1 = dL1.dot(training_data.T)       # Matrix multiplication of the hidden layer errors and input values normalized by the number of training samples. The calculated matrix shape is: rows = dL1.rows == W1.rows, cols = training_data.rows == W1.cols (training_data is transposed, in case of images 28x28 it is 784).\n",
    "    dB1 = np.sum(dL1, 1, keepdims=True)  # Arithmetic average of the hidden layer errors. The result is a scalar value.\n",
    "    return dW1, dW2, dB1, dB2\n",
    "\n",
    "def back_prop_3L(L1: npt.NDArray, L2: npt.NDArray, L3: npt.NDArray, W2: npt.NDArray, W3: npt.NDArray, training_data: npt.NDArray, one_hot_labels: npt.NDArray) -> tuple:\n",
    "    \"\"\"\n",
    "    Calculates weight and bias gradients for all layers.\n",
    "\n",
    "    :L1: Matrix of first layer values.\n",
    "    :L2: Matrix of second layer values.\n",
    "    :L3: Matrix of third layer values.\n",
    "    :W2: Matrix of second layer weights.\n",
    "    :W3: Matrix of third layer weights.\n",
    "    :training_data: Training samples, each column represents one training sample.\n",
    "    :one_hot_labels: Encoded ground truth labels to probabilty distribution.\n",
    "    :return: Tuple of matrices with weight and bias gradients for each layer.\n",
    "    \"\"\"\n",
    "    m = one_hot_labels.shape[1]  # The number of training samples.\n",
    "    dL3 = (L3 - one_hot_labels) / m    # Calculating errors with matrix subtractions between the classified values and the ground truth. Subtraction does not change the shape of the resulting matrix.\n",
    "    dL2 = W3.T.dot(dL3) * ReLU_deriv(L2) # Back propagating the errors from output layer to the last hidden layer by matrix multiplication of the transponed weight matrix and errors by the ReLU derivation. The calculated matrix shape is: rows: W3.cols == W2.rows (W3 is transposed), cols = one_hot_labels.cols (number of training samples).\n",
    "    dL1 = W2.T.dot(dL2) * ReLU_deriv(L1) # Back propagating the errors from last hidden layer to the first (second to last) hidden layer by matrix multiplication of the transponed weight matrix and errors by the ReLU derivation. The calculated matrix shape is: rows: W2.cols == W1.rows (W2 is transposed), cols = dL2.cols (number of training samples).\n",
    "    dW3 = dL3.dot(L2.T)      # Matrix multiplication of the output layer errors and hidden layer values normalized by the number of training samples. The calculated matrix shape is: rows = one_hot_labels.rows == W3.rows (10 in case of digit classification), cols = L2.rows == W3.cols (L2 is transposed).\n",
    "    dB3 = np.sum(dL3, 1, keepdims=True)        # Arithmetic average of the errors. The result is a scalar value.\n",
    "    dW2 = dL2.dot(L1.T)      # Matrix multiplication of the last hidden layer errors and first layer values normalized by the number of training samples. The calculated matrix shape is: rows = dL2.rows == W2.rows, cols = L1.rows == W2.cols (L1 is transposed).\n",
    "    dB2 = np.sum(dL2, 1, keepdims=True)        # Arithmetic average of the errors. The result is a scalar value.\n",
    "    dW1 = dL1.dot(training_data.T)   # Matrix multiplication of the first hidden layer errors and input values normalized by the number of training samples. The calculated matrix shape is: rows = dL1.rows == W1.rows, cols = training_data.rows == W1.cols (training_data is transposed, in case of images 28x28 it is 784).\n",
    "    dB1 = np.sum(dL1, 1, keepdims=True)                # Arithmetic average of the errors. The result is a scalar value.\n",
    "    return dW1, dW2, dW3, dB1, dB2, dB3\n",
    "\n",
    "def back_prop(layers: list, weights: list, activation_derivs: list, training_data: npt.NDArray, one_hot_labels: npt.NDArray) -> tuple:\n",
    "    \"\"\"\n",
    "    Calculates weight and bias gradients for all layers.\n",
    "\n",
    "    :layers: List of layer matrices.\n",
    "    :weights: List of weight matrices.\n",
    "    :activation_derivs: List of derivations of nonlinear activation functions.\n",
    "    :training_data: Training samples, each column represents one training sample.\n",
    "    :one_hot_labels: Encoded ground truth labels to probabilty distribution.\n",
    "    :return: Tuple of lists of matrices with weight and bias differences for each layer.\n",
    "    \"\"\"\n",
    "    layers_count = len(layers)                  # The number of layers.\n",
    "    m = one_hot_labels.shape[1]                 # The number of training samples.\n",
    "    weight_gradients = [None] * layers_count    # Initialization of weight gradients list\n",
    "    bias_diff = [None] * layers_count           # Initialization of bias differences list\n",
    "\n",
    "    current_deriv = (layers[layers_count - 1] - one_hot_labels) # Calculating errors with matrix subtractions between the classified values and the ground truth. Subtraction does not change the shape of the resulting matrix.\n",
    "    for i in range(layers_count - 1, 0, -1):  # Ranging from N to 1\n",
    "        weight_gradients[i] = current_deriv.dot(layers[i - 1].T)   # Matrix multiplication of the N+1th hidden layer errors and Nth hidden layer values normalized by the number of training samples. The shape of the resulting matrix changes with iterations, see above.\n",
    "        bias_diff[i] = np.sum(current_deriv)                       # Arithmetic average of the errors - scalar value.\n",
    "        current_deriv = weights[i].T.dot(current_deriv) * activation_derivs[i - 1](layers[i - 1]) # Back propagating the errors from N+1th layer to the Nth layer by matrix multiplication of the transponed weight matrix and errors by the derivation of activation function. The shape of the resulting matrix changes with iterations, see above.\n",
    "    \n",
    "    # Calculation for the first layer\n",
    "    weight_gradients[0] = current_deriv.dot(training_data.T)    # Matrix multiplication of the first hidden layer errors and input values normalized by the number of training samples.\n",
    "    bias_diff[0] = np.sum(current_deriv, 1, keepdims=True)      # Arithmetic average of the errors.\n",
    "\n",
    "    return weight_gradients, bias_diff"
   ]
  },
  {
   "cell_type": "markdown",
   "id": "cced063f",
   "metadata": {},
   "source": [
    "### Gradient Descend\n",
    "Gradient descend is an algorithm, which minimizes the error in classification of the neural network. It uses the backpropagation algorithm to obtain, how each weight and bias affect the error. By knowing how the weights and biases affect the error, they can be adjusted so that the error is smaller.\n",
    "\n",
    "The error is called loss function and the task in neural networks is to minimize the loss function. Minimizing means finding the global minimum of the loss function. On a (well-behaved) function ``f(x)`` with a single parametr ``x`` this can be done analytically by finding all ``x``, where the first derivation of the function is equal to 0, calculating the function for those ``x`` and selecting the smalles resulting ``y``.\n",
    "\n",
    "In neural networks the analytic expression of the loss function is not known and the function has multiple parameters (parameters are all the weights and biases). Finding the minimum analytically cannot be done, but it can be done numerica"
   ]
  },
  {
   "cell_type": "code",
   "execution_count": 22,
   "id": "e515b0cd",
   "metadata": {},
   "outputs": [],
   "source": [
    "def gradient_descend_2L(training_data: npt.NDArray, labels: npt.ArrayLike, L1_size: int, iterations: int, learning_rate: float) -> tuple:\n",
    "    \"\"\"\n",
    "    Trains a neural network with 1 hidden layer using gradient descend method.\n",
    "\n",
    "    :training_data: Traning samples organized into columns.\n",
    "    :labels: Ground truth values for each training sample.\n",
    "    :L1_size: Number of neurons in the hidden neuron layer.\n",
    "    :iterations: Number of training iterations.\n",
    "    :learning_rate: Learning rate used to adjust weights and biases.\n",
    "    :return: Tuple of weight and bias matrices.\n",
    "    \"\"\"\n",
    "    # initialization\n",
    "    W1, W2 = weights_init_2L(L1_size)\n",
    "    B1, B2 = biases_init_2L(L1_size)\n",
    "    labels = one_hot(labels)\n",
    "\n",
    "    # training\n",
    "    for _ in range(iterations):\n",
    "        L1, L2 = forward_prop_2L(W1, W2, B1, B2, training_data)\n",
    "        dW1, dW2, dB1, dB2 = back_prop_2L(L1, L2, W2, training_data, labels)\n",
    "        W1, W2 = weights_adjust_2L(W1, W2, dW1, dW2, learning_rate)\n",
    "        B1, B2 = biases_adjust_2L(B1, B2, dB1, dB2, learning_rate)\n",
    "\n",
    "    return W1, W2, B1, B2\n",
    "\n",
    "def gradient_descend_3L(training_data: npt.NDArray, labels: npt.ArrayLike, L1_size: int, L2_size: int, iterations: int, learning_rate: float) -> tuple:\n",
    "    \"\"\"\n",
    "    Trains a neural network with 2 hidden layers using gradient descend method.\n",
    "\n",
    "    :training_data: Traning samples organized into columns.\n",
    "    :labels: Ground truth values for each training sample.\n",
    "    :L1_size: Number of neurons in the first hidden neuron layer.\n",
    "    :L2_size: Number of neurons in the second hidden neuron layer.\n",
    "    :iterations: Number of training iterations.\n",
    "    :learning_rate: Learning rate used to adjust weights and biases.\n",
    "    :return: Tuple of weight and bias matrices.\n",
    "    \"\"\"\n",
    "    # initialization\n",
    "    W1, W2, W3 = weights_init_3L(L1_size, L2_size)\n",
    "    B1, B2, B3 = biases_init_3L(L1_size, L2_size)\n",
    "    labels = one_hot(labels)\n",
    "\n",
    "    # training \n",
    "    for _ in range(iterations):\n",
    "        L1, L2, L3 = forward_prop_3L(W1, W2, W3, B1, B2, B3, training_data)\n",
    "        dW1, dW2, dW3, dB1, dB2, dB3 = back_prop_3L(L1, L2, L3, W2, W3, training_data, labels)\n",
    "        W1, W2, W3 = weights_adjust_3L(W1, W2, W3, dW1, dW2, dW3, learning_rate)\n",
    "        B1, B2, B3 = biases_adjust_3L(B1, B2, B3, dB1, dB2, dB3, learning_rate)\n",
    "\n",
    "    return W1, W2, W3, B1, B2, B3\n",
    "\n",
    "def gradient_descend(training_data: npt.NDArray, labels: npt.ArrayLike, weight_sizes: list, activations: list, activation_derivs: list, iterations: int, learning_rate: float) -> tuple:\n",
    "    \"\"\"\n",
    "    Trains a neural network given number of layers using gradient descend method.\n",
    "\n",
    "    :training_data: Traning samples organized into columns.\n",
    "    :labels: Ground truth values for each training sample.\n",
    "    :weigh_sizes: List of numbers of neurons in each layer including the input layer.\n",
    "    :activations: List of activation functions for each hidden layer and output layer.\n",
    "    :activation_derivs: List of derivation of activation functions each hidden layer.\n",
    "    :iterations: Number of training iterations.\n",
    "    :learning_rate: Learning rate used to adjust weights and biases.\n",
    "    :return: Tuple of list of weight and bias matrices.\n",
    "    \"\"\"\n",
    "    # initialization\n",
    "    weights = weights_init(weight_sizes)\n",
    "    biases = biases_init(weight_sizes)\n",
    "    labels = one_hot(labels)\n",
    "\n",
    "    # training\n",
    "    for _ in range(iterations):\n",
    "        layers = forward_prop(weights, biases, activations, training_data)\n",
    "        weight_gradients, bias_diff = back_prop(layers, weights, activation_derivs, training_data, labels)\n",
    "        weights = weights_adjust(weights, weight_gradients, learning_rate)\n",
    "        biases = biases_adjust(biases, bias_diff, learning_rate)\n",
    "\n",
    "    return weights, biases"
   ]
  },
  {
   "cell_type": "markdown",
   "id": "dcabb76d",
   "metadata": {},
   "source": [
    "### Adjusting weights and biases after a training cycle"
   ]
  },
  {
   "cell_type": "code",
   "execution_count": 23,
   "id": "6416852c",
   "metadata": {},
   "outputs": [],
   "source": [
    "def weights_adjust_2L(W1: npt.NDArray, W2: npt.NDArray, dW1: npt.NDArray, dW2: npt.NDArray, learning_rate: float) -> tuple:\n",
    "    \"\"\"\n",
    "    Adjusts weights according to the gradients and learning rate.\n",
    "\n",
    "    :W1: First layer weight matrix.\n",
    "    :W2: Second layer weight matrix.\n",
    "    :dW1: First layer gradient matrix.\n",
    "    :dW2: Second layer gradient matrix.\n",
    "    :return: Tuple of adjusted weight matrices.\n",
    "    \"\"\"\n",
    "    W1 = W1 - learning_rate * dW1\n",
    "    W2 = W2 - learning_rate * dW2\n",
    "    return W1, W2\n",
    "\n",
    "def weights_adjust_3L(W1: npt.NDArray, W2: npt.NDArray, W3: npt.NDArray, dW1: npt.NDArray, dW2: npt.NDArray, dW3: npt.NDArray, learning_rate: float) -> tuple:\n",
    "    \"\"\"\n",
    "    Adjusts weights according to the gradients and learning rate.\n",
    "\n",
    "    :W1: First layer weight matrix.\n",
    "    :W2: Second layer weight matrix.\n",
    "    :W2: Third layer weight matrix.\n",
    "    :dW1: First layer gradient matrix.\n",
    "    :dW2: Second layer gradient matrix.\n",
    "    :dW2: Third layer gradient matrix.\n",
    "    :return: Tuple of adjusted weight matrices.\n",
    "    \"\"\"\n",
    "    W1 = W1 - learning_rate * dW1\n",
    "    W2 = W2 - learning_rate * dW2\n",
    "    W3 = W3 - learning_rate * dW3\n",
    "    return W1, W2, W3\n",
    "\n",
    "def weights_adjust(weights: list, weight_gradients: list, learning_rate: float) -> list:\n",
    "    \"\"\"\n",
    "    Adjusts weights according to the gradients and learning rate.\n",
    "\n",
    "    :weights: List of weight matrices.\n",
    "    :weight_gradients: List of gradient matrices of the same shape as respective weight matrices.\n",
    "    :return: List of adjusted weight matrices.\n",
    "    \"\"\"\n",
    "    for i in range(len(weights)):\n",
    "        weights[i] = weights[i] - learning_rate * weight_gradients[i]\n",
    "        \n",
    "    return weights\n",
    "\n",
    "def biases_adjust_2L(B1: npt.ArrayLike, B2: npt.ArrayLike, dB1: float, dB2: float, learning_rate: float) -> tuple:\n",
    "    \"\"\"\n",
    "    Adjusts biases according to the gradients and learning rate.\n",
    "\n",
    "    :B1: First layer bias column vector.\n",
    "    :B2: Second layer bias column vector.\n",
    "    :dB1: First layer bias difference (scalar value).\n",
    "    :dB2: Second layer bias difference (scalar value).\n",
    "    :return: Tuple of adjusted bias column vectors.\n",
    "    \"\"\"\n",
    "    B1 = B1 - learning_rate * dB1\n",
    "    B2 = B2 - learning_rate * dB2\n",
    "    return B1, B2\n",
    "\n",
    "def biases_adjust_3L(B1: npt.ArrayLike, B2: npt.ArrayLike, B3: npt.ArrayLike, dB1: float, dB2: float, dB3: float, learning_rate: float) -> tuple:\n",
    "    \"\"\"\n",
    "    Adjusts biases according to the difference and learning rate.\n",
    "\n",
    "    :B1: First layer bias column vector.\n",
    "    :B2: Second layer bias column vector.\n",
    "    :B2: Third layer bias column vector.\n",
    "    :dB1: First layer bias difference (scalar value).\n",
    "    :dB2: Second layer bias difference (scalar value).\n",
    "    :dB2: Third layer bias difference (scalar value).\n",
    "    :return: Tuple of adjusted bias column vectors.\n",
    "    \"\"\"\n",
    "    B1 = B1 - learning_rate * dB1\n",
    "    B2 = B2 - learning_rate * dB2\n",
    "    B3 = B3 - learning_rate * dB3\n",
    "    return B1, B2, B3\n",
    "\n",
    "def biases_adjust(biases: npt.ArrayLike, bias_diff: npt.ArrayLike, learning_rate: float) -> list:\n",
    "    \"\"\"\n",
    "    Adjusts biases according to the gradients and learning rate.\n",
    "\n",
    "    :biases: List of bias column vectors.\n",
    "    :bias_diff: List of bias differences (scalar values).\n",
    "    :return: List of adjusted bias column vectors.\n",
    "    \"\"\"\n",
    "    for i in range(len(biases)):\n",
    "        biases[i] = biases[i] - learning_rate * bias_diff[i]\n",
    "    \n",
    "    return biases"
   ]
  },
  {
   "cell_type": "markdown",
   "id": "28e6c230",
   "metadata": {},
   "source": [
    "### Training functions"
   ]
  },
  {
   "cell_type": "code",
   "execution_count": 24,
   "id": "97ebb191",
   "metadata": {},
   "outputs": [],
   "source": [
    "def train_2L(training_data: npt.NDArray, training_labels: npt.ArrayLike, L1_size = L1_SIZE, iterations = ITERATIONS, learning_rate = LEARNING_RATE):\n",
    "    \"\"\"\n",
    "    Trains a neural network with one hidden layer using gradient descend and saves the result.\n",
    "\n",
    "    :training_data: Traning samples organized into columns.\n",
    "    :training_labels: Ground truth values for each training sample.\n",
    "    :L1_size: Number of neurons in the first hidden neuron layer.\n",
    "    :iterations: Number of training iterations.\n",
    "    :learning_rate: Learning rate used to adjust weights and biases.\n",
    "    \"\"\"\n",
    "    # training\n",
    "    W1, W2, B1, B2 = gradient_descend_2L(training_data, training_labels, L1_size, iterations, learning_rate)\n",
    "\n",
    "    # saving results\n",
    "    np.save(\"W1_2L.npy\", W1)\n",
    "    np.save(\"W2_2L.npy\", W2)\n",
    "    np.save(\"B1_2L.npy\", B1)\n",
    "    np.save(\"B2_2L.npy\", B2)\n",
    "\n",
    "def train_3L(training_data, training_labels, L1_size = L1_SIZE, L2_size = L2_SIZE, iterations = ITERATIONS, learning_rate = LEARNING_RATE):\n",
    "    \"\"\"\n",
    "    Trains a neural network with two hidden layers using gradient descend and saves the result.\n",
    "\n",
    "    :training_data: Traning samples organized into columns.\n",
    "    :training_labels: Ground truth values for each training sample.\n",
    "    :L1_size: Number of neurons in the first hidden neuron layer.\n",
    "    :L2_size: Number of neurons in the second hidden neuron layer.\n",
    "    :iterations: Number of training iterations.\n",
    "    :learning_rate: Learning rate used to adjust weights and biases.\n",
    "    \"\"\"\n",
    "    # training\n",
    "    W1, W2, W3, B1, B2, B3 = gradient_descend_3L(training_data, training_labels, L1_size, L2_size, iterations, learning_rate)\n",
    "\n",
    "    # saving results\n",
    "    np.save(\"W1_3L.npy\", W1)\n",
    "    np.save(\"W2_3L.npy\", W2)\n",
    "    np.save(\"W3_3L.npy\", W3)\n",
    "    np.save(\"B1_3L.npy\", B1)\n",
    "    np.save(\"B2_3L.npy\", B2)\n",
    "    np.save(\"B3_3L.npy\", B3)\n",
    "\n",
    "def train(training_data: npt.NDArray, training_labels: npt.ArrayLike, weight_sizes: list, activations: list, activation_derivs: list, iterations = ITERATIONS, learning_rate = LEARNING_RATE, \n",
    "          files_id = dt.now().strftime(\"%d-%m-%Y_%H:%M:%S\")):\n",
    "    \"\"\"\n",
    "    Trains a neural network with a given number of hidden layers using gradient descend and saves the result.\n",
    "\n",
    "    :training_data: Traning samples organized into columns.\n",
    "    :labels: Ground truth values for each training sample.\n",
    "    :weigh_sizes: List of numbers of neurons in each layer including the input layer.\n",
    "    :activations: List of activation functions for each hidden layer and output layer.\n",
    "    :activation_derivs: List of derivation of activation functions each hidden layer.\n",
    "    :iterations: Number of training iterations.\n",
    "    :learning_rate: Learning rate used to adjust weights and biases.\n",
    "    :return: Tuple of list of weight and bias matrices.\n",
    "    \"\"\"\n",
    "    # training\n",
    "    weights, biases = gradient_descend(training_data, training_labels, weight_sizes, activations, activation_derivs, iterations, learning_rate)\n",
    "\n",
    "    # saving results\n",
    "    for i in range(len(weights)):\n",
    "        j = str(i + 1)\n",
    "        np.save(\"W\" + j + \"_\" + files_id + \".npy\", weights[i])\n",
    "        np.save(\"B\" + j + \"_\" + files_id + \".npy\", biases[i])\n",
    "    "
   ]
  },
  {
   "cell_type": "markdown",
   "id": "ffef8553",
   "metadata": {},
   "source": [
    "### Funtions for loading of training and testing data"
   ]
  },
  {
   "cell_type": "code",
   "execution_count": 25,
   "id": "6f6b3a97",
   "metadata": {},
   "outputs": [],
   "source": [
    "def load_training_data() -> tuple:\n",
    "    \"\"\"\n",
    "    Loads training data and training labels from files and transforms them to desired shape.\n",
    "\n",
    "    :return: Matrix of training data and array of training labels.\n",
    "    \"\"\"\n",
    "    training_data = idx2numpy.convert_from_file(\"mnist/train-images.idx3-ubyte\")\n",
    "    training_labels = idx2numpy.convert_from_file(\"mnist/train-labels.idx1-ubyte\")\n",
    "    sample_count = training_data.shape[0]\n",
    "    training_data = np.reshape(training_data, (sample_count, -1)).T / 255\n",
    "    return training_data, training_labels\n",
    "\n",
    "def load_test_data() -> tuple:\n",
    "    \"\"\"\n",
    "    Loads testing data and training labels from files and transforms them to desired shape.\n",
    "\n",
    "    :return: Matrix of testing data and array of testing labels.\n",
    "    \"\"\"\n",
    "    test_data = idx2numpy.convert_from_file(\"mnist/t10k-images.idx3-ubyte\")\n",
    "    test_labels = idx2numpy.convert_from_file(\"mnist/t10k-labels.idx1-ubyte\")\n",
    "    sample_count = test_data.shape[0]\n",
    "    test_data = np.reshape(test_data, (sample_count, -1)).T / 255\n",
    "    return test_data, test_labels"
   ]
  },
  {
   "cell_type": "markdown",
   "id": "14c4aab6",
   "metadata": {},
   "source": [
    "### Functions for result assessment"
   ]
  },
  {
   "cell_type": "code",
   "execution_count": 26,
   "id": "432b605e",
   "metadata": {},
   "outputs": [],
   "source": [
    "def assess_results_2L():\n",
    "    \"\"\"\n",
    "    Assesses the results of a neural network with one hidden layer.\n",
    "    \"\"\"\n",
    "    # Loading of the trained weights and biases.\n",
    "    W1 = np.load(\"W1_2L.npy\")\n",
    "    W2 = np.load(\"W2_2L.npy\")\n",
    "    B1 = np.load(\"B1_2L.npy\")\n",
    "    B2 = np.load(\"B2_2L.npy\")\n",
    "    print(\"\\n###################### 2 layers results ######################\\n\")\n",
    "\n",
    "    training_data, training_labels = load_training_data()\n",
    "    _, L2 = forward_prop_2L(W1, W2, B1, B2, training_data)                 # Calculation of the network output for each training sample.\n",
    "    print(\"Accuracy on training set: \", get_accuracy(L2, training_labels)) # Calculation of the accuracy of the network on training data.\n",
    "\n",
    "    test_data, test_labels = load_test_data()\n",
    "    _, L2 = forward_prop_2L(W1, W2, B1, B2, test_data)             # Calculation of the network output for each testing sample.\n",
    "    print(\"Accuracy on test set: \", get_accuracy(L2, test_labels)) # Calculation of the accuracy of the network on training data.\n",
    "\n",
    "    show_some_mistakes(L2, test_labels, test_data)\n",
    "\n",
    "def assess_results_3L():\n",
    "    \"\"\"\n",
    "    Assesses the results of a neural network with two hidden layer.\n",
    "    \"\"\"\n",
    "    # Loading of the trained weights and biases.\n",
    "    W1 = np.load(\"W1_3L.npy\")\n",
    "    W2 = np.load(\"W2_3L.npy\")\n",
    "    W3 = np.load(\"W3_3L.npy\")\n",
    "    B1 = np.load(\"B1_3L.npy\")\n",
    "    B2 = np.load(\"B2_3L.npy\")\n",
    "    B3 = np.load(\"B3_3L.npy\")\n",
    "    print(\"\\n###################### 3 layers results ######################\\n\")\n",
    "\n",
    "    training_data, training_labels = load_training_data()\n",
    "    _, _, L3 = forward_prop_3L(W1, W2, W3, B1, B2, B3, training_data)      # Calculation of the network output for each training sample.\n",
    "    print(\"Accuracy on training set: \", get_accuracy(L3, training_labels)) # Calculation of the accuracy of the network on training data.\n",
    "\n",
    "    test_data, test_labels = load_test_data()\n",
    "    _, _, L3 = forward_prop_3L(W1, W2, W3, B1, B2, B3, test_data)   # Calculation of the network output for each testing sample.\n",
    "    print(\"Accuracy on test set: \", get_accuracy(L3, test_labels))  # Calculation of the accuracy of the network on training data.\n",
    "\n",
    "    show_some_mistakes(L3, test_labels, test_data)\n",
    "\n",
    "def assess_results(activations: list, files_id = \"\"):\n",
    "    \"\"\"\n",
    "    Assesses the results of a neural network with given number of layers including the output layer.\n",
    "\n",
    "    :activations: Activation functions for each hidden layer and for the output layer.\n",
    "    :files_id: Id in the file names of the weights and biases.\n",
    "    \"\"\"\n",
    "    layers_count = len(activations)\n",
    "    weights = []\n",
    "    biases = []\n",
    "    # Loading of the trained weights and biases.\n",
    "    for i in range(layers_count):\n",
    "        j = str(i + 1)\n",
    "        weights.append(np.load(\"W\" + j + \"_\" + files_id + \".npy\"))\n",
    "        biases.append(np.load(\"B\" + j + \"_\" + files_id + \".npy\"))\n",
    "    \n",
    "    print(\"\\n###################### \" + str(layers_count) + \" layers results ######################\\n\")\n",
    "\n",
    "    training_data, training_labels = load_training_data()\n",
    "    last_layer = forward_prop(weights, biases, activations, training_data)[layers_count - 1] # Calculation of the network output for each training sample.\n",
    "    print(\"Accuracy on training set: \", get_accuracy(last_layer, training_labels))           # Calculation of the accuracy of the network on training data.\n",
    "\n",
    "    test_data, test_labels = load_test_data()\n",
    "    last_layer = forward_prop(weights, biases, activations, test_data)[layers_count - 1]     # Calculation of the network output for each testing sample.\n",
    "    print(\"Accuracy on test set: \", get_accuracy(last_layer, test_labels))                   # Calculation of the accuracy of the network on training data.\n",
    "\n",
    "    show_some_mistakes(last_layer, test_labels, test_data)"
   ]
  },
  {
   "cell_type": "markdown",
   "id": "9f136be3",
   "metadata": {},
   "source": [
    "### Training"
   ]
  },
  {
   "cell_type": "code",
   "execution_count": 27,
   "id": "66870650",
   "metadata": {},
   "outputs": [],
   "source": [
    "training_data, training_labels = load_training_data()\n",
    "train_2L(training_data, training_labels)\n",
    "#train_3L(training_data, training_labels)\n",
    "#train(training_data, training_labels, [PIXELS_PER_IMAGE, 112, L1_SIZE, L2_SIZE, CLASSES_COUNT], [ReLU, ReLU, ReLU, softmax], \n",
    "#      [ReLU_deriv, ReLU_deriv, ReLU_deriv], files_id=\"4L\")"
   ]
  },
  {
   "cell_type": "markdown",
   "id": "6a5c77a9",
   "metadata": {},
   "source": [
    "### Result assessment"
   ]
  },
  {
   "cell_type": "code",
   "execution_count": 28,
   "id": "1789e380",
   "metadata": {},
   "outputs": [
    {
     "name": "stdout",
     "output_type": "stream",
     "text": [
      "\n",
      "###################### 2 layers results ######################\n",
      "\n",
      "Accuracy on training set:  0.905\n",
      "Accuracy on test set:  0.9073\n",
      "labeled: 6 -- classified: 5\n"
     ]
    },
    {
     "data": {
      "image/png": "[encoded data removed]",
      "text/plain": [
       "<Figure size 432x288 with 1 Axes>"
      ]
     },
     "metadata": {
      "needs_background": "light"
     },
     "output_type": "display_data"
    },
    {
     "name": "stdout",
     "output_type": "stream",
     "text": [
      "labeled: 4 -- classified: 9\n"
     ]
    },
    {
     "data": {
      "image/png": "[encoded data removed]",
      "text/plain": [
       "<Figure size 432x288 with 1 Axes>"
      ]
     },
     "metadata": {
      "needs_background": "light"
     },
     "output_type": "display_data"
    },
    {
     "name": "stdout",
     "output_type": "stream",
     "text": [
      "labeled: 7 -- classified: 9\n"
     ]
    },
    {
     "data": {
      "image/png": "[encoded data removed]",
      "text/plain": [
       "<Figure size 432x288 with 1 Axes>"
      ]
     },
     "metadata": {
      "needs_background": "light"
     },
     "output_type": "display_data"
    },
    {
     "name": "stdout",
     "output_type": "stream",
     "text": [
      "labeled: 4 -- classified: 6\n"
     ]
    },
    {
     "data": {
      "image/png": "[encoded data removed]",
      "text/plain": [
       "<Figure size 432x288 with 1 Axes>"
      ]
     },
     "metadata": {
      "needs_background": "light"
     },
     "output_type": "display_data"
    },
    {
     "name": "stdout",
     "output_type": "stream",
     "text": [
      "labeled: 6 -- classified: 1\n"
     ]
    },
    {
     "data": {
      "image/png": "[encoded data removed]",
      "text/plain": [
       "<Figure size 432x288 with 1 Axes>"
      ]
     },
     "metadata": {
      "needs_background": "light"
     },
     "output_type": "display_data"
    },
    {
     "name": "stdout",
     "output_type": "stream",
     "text": [
      "labeled: 6 -- classified: 8\n"
     ]
    },
    {
     "data": {
      "image/png": "[encoded data removed]",
      "text/plain": [
       "<Figure size 432x288 with 1 Axes>"
      ]
     },
     "metadata": {
      "needs_background": "light"
     },
     "output_type": "display_data"
    },
    {
     "name": "stdout",
     "output_type": "stream",
     "text": [
      "labeled: 0 -- classified: 6\n"
     ]
    },
    {
     "data": {
      "image/png": "[encoded data removed]",
      "text/plain": [
       "<Figure size 432x288 with 1 Axes>"
      ]
     },
     "metadata": {
      "needs_background": "light"
     },
     "output_type": "display_data"
    },
    {
     "name": "stdout",
     "output_type": "stream",
     "text": [
      "labeled: 9 -- classified: 4\n"
     ]
    },
    {
     "data": {
      "image/png": "[encoded data removed]",
      "text/plain": [
       "<Figure size 432x288 with 1 Axes>"
      ]
     },
     "metadata": {
      "needs_background": "light"
     },
     "output_type": "display_data"
    },
    {
     "name": "stdout",
     "output_type": "stream",
     "text": [
      "labeled: 7 -- classified: 9\n"
     ]
    },
    {
     "data": {
      "image/png": "[encoded data removed]",
      "text/plain": [
       "<Figure size 432x288 with 1 Axes>"
      ]
     },
     "metadata": {
      "needs_background": "light"
     },
     "output_type": "display_data"
    },
    {
     "name": "stdout",
     "output_type": "stream",
     "text": [
      "labeled: 8 -- classified: 4\n"
     ]
    },
    {
     "data": {
      "image/png": "[encoded data removed]",
      "text/plain": [
       "<Figure size 432x288 with 1 Axes>"
      ]
     },
     "metadata": {
      "needs_background": "light"
     },
     "output_type": "display_data"
    }
   ],
   "source": [
    "assess_results_2L()\n",
    "#assess_results_3L()\n",
    "#assess_results([ReLU, ReLU, ReLU, softmax], \"4L\")"
   ]
  },
  {
   "cell_type": "code",
   "execution_count": 29,
   "id": "a01af5c1",
   "metadata": {},
   "outputs": [],
   "source": [
    "# TODO dropout\n",
    "pKeep = 0.8\n",
    "weights = np.ones([5, 5])\n",
    "binary_value = np.random.rand(weights.shape[0], weights.shape[1]) < pKeep\n",
    "res = np.multiply(weights, binary_value)"
   ]
  }
 ],
 "metadata": {
  "kernelspec": {
   "display_name": "Python 3.8.10 64-bit",
   "language": "python",
   "name": "python3"
  },
  "language_info": {
   "codemirror_mode": {
    "name": "ipython",
    "version": 3
   },
   "file_extension": ".py",
   "mimetype": "text/x-python",
   "name": "python",
   "nbconvert_exporter": "python",
   "pygments_lexer": "ipython3",
   "version": "3.10.4"
  },
  "vscode": {
   "interpreter": {
    "hash": "31f2aee4e71d21fbe5cf8b01ff0e069b9275f58929596ceb00d14d90e3e16cd6"
   }
  }
 },
 "nbformat": 4,
 "nbformat_minor": 5
}
