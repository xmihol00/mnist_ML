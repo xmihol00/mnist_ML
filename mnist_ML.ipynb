{
 "cells": [
  {
   "cell_type": "code",
   "execution_count": 32,
   "id": "e6aa62a3",
   "metadata": {},
   "outputs": [],
   "source": [
    "import idx2numpy\n",
    "import numpy as np\n",
    "import matplotlib.pyplot as plt\n",
    "from datetime import datetime as dt\n",
    "import random as rnd\n",
    "\n",
    "L1_SIZE = 56\n",
    "L2_SIZE = 28\n",
    "IMAGE_EDGE_SIZE = 28\n",
    "PIXELS_PER_IMAGE = IMAGE_EDGE_SIZE ** 2\n",
    "CLASSES_COUNT = 10\n",
    "ITERATIONS = 500\n",
    "LEARNING_RATE = 0.15"
   ]
  },
  {
   "cell_type": "markdown",
   "id": "cc4f253a",
   "metadata": {},
   "source": [
    "### Helper functions"
   ]
  },
  {
   "cell_type": "code",
   "execution_count": 33,
   "id": "ffc689fa",
   "metadata": {},
   "outputs": [],
   "source": [
    "def one_hot(labels):\n",
    "    one_hot = np.zeros((labels.size, 10))\n",
    "    one_hot[np.arange(labels.size), labels] = 1\n",
    "    return one_hot.T\n",
    "\n",
    "def get_accuracy(results, labels):\n",
    "    return (np.sum(np.argmax(results, 0) == labels) / labels.size)\n",
    "\n",
    "def show_some_mistakes(results, labels, data, samples = 10):\n",
    "    results = np.argmax(results, 0)\n",
    "    i = rnd.randint(0, labels.size)\n",
    "    j = 0\n",
    "    while j < samples:\n",
    "        i = (i + 1) % labels.size\n",
    "        if results[i] != labels[i]:\n",
    "            print(\"labeled:\", labels[i], \"-- classified:\", results[i])\n",
    "            plt.imshow(data[:, i].reshape((IMAGE_EDGE_SIZE, IMAGE_EDGE_SIZE)), cmap='gray')\n",
    "            plt.show()\n",
    "            j += 1\n",
    "\n",
    "def assess_2L():\n",
    "    W1 = np.load(\"W1_2L.npy\")\n",
    "    W2 = np.load(\"W2_2L.npy\")\n",
    "    B1 = np.load(\"B1_2L.npy\")\n",
    "    B2 = np.load(\"B2_2L.npy\")\n",
    "    print(\"\\n###################### 2 layers results ######################\\n\")\n",
    "\n",
    "    training_data, training_labels = load_training_data()\n",
    "    Z1, Z2, A1, A2 = forward_prop_2L(W1, W2, B1, B2, training_data)\n",
    "    print(\"Accuracy on training set: \", get_accuracy(A2, training_labels))\n",
    "\n",
    "    test_data, test_labels = load_test_data()\n",
    "    Z1, Z2, A1, A2 = forward_prop_2L(W1, W2, B1, B2, test_data)\n",
    "    print(\"Accuracy on test set: \", get_accuracy(A2, test_labels))\n",
    "\n",
    "    show_some_mistakes(A2, test_labels, test_data)\n",
    "\n",
    "def assess_3L():\n",
    "    W1 = np.load(\"W1_3L.npy\")\n",
    "    W2 = np.load(\"W2_3L.npy\")\n",
    "    W3 = np.load(\"W3_3L.npy\")\n",
    "    B1 = np.load(\"B1_3L.npy\")\n",
    "    B2 = np.load(\"B2_3L.npy\")\n",
    "    B3 = np.load(\"B3_3L.npy\")\n",
    "    print(\"\\n###################### 3 layers results ######################\\n\")\n",
    "\n",
    "    training_data, training_labels = load_training_data()\n",
    "    Z1, Z2, Z3, A1, A2, A3 = forward_prop_3L(W1, W2, W3, B1, B2, B3, training_data)\n",
    "    print(\"Accuracy on training set: \", get_accuracy(A3, training_labels))\n",
    "\n",
    "    test_data, test_labels = load_test_data()\n",
    "    Z1, Z2, Z3, A1, A2, A3 = forward_prop_3L(W1, W2, W3, B1, B2, B3, test_data)\n",
    "    print(\"Accuracy on test set: \", get_accuracy(A3, test_labels))\n",
    "\n",
    "    show_some_mistakes(A3, test_labels, test_data)"
   ]
  },
  {
   "cell_type": "markdown",
   "id": "e74aacbd",
   "metadata": {},
   "source": [
    "### Non linear functions"
   ]
  },
  {
   "cell_type": "code",
   "execution_count": 34,
   "id": "35d68cff",
   "metadata": {},
   "outputs": [],
   "source": [
    "def ReLU(Z):\n",
    "    return np.maximum(0, Z)\n",
    "\n",
    "def softmax(Z):\n",
    "    return np.exp(Z) / sum(np.exp(Z))\n",
    "\n",
    "def sigmoid(Z):\n",
    "    return 1 / (1 + np.exp(-Z))"
   ]
  },
  {
   "cell_type": "markdown",
   "id": "f3b90ee7",
   "metadata": {},
   "source": [
    "### Forward and backward propagation"
   ]
  },
  {
   "cell_type": "code",
   "execution_count": 35,
   "id": "f6dbe149",
   "metadata": {},
   "outputs": [],
   "source": [
    "def forward_prop_2L(W1, W2, B1, B2, training_data):\n",
    "    Z1 = W1.dot(training_data) + B1\n",
    "    A1 = ReLU(Z1)\n",
    "    Z2 = W2.dot(A1) + B2\n",
    "    A2 = softmax(Z2)\n",
    "    return Z1, Z2, A1, A2\n",
    "\n",
    "def forward_prop_3L(W1, W2, W3, B1, B2, B3, training_data):\n",
    "    Z1 = W1.dot(training_data) + B1\n",
    "    A1 = ReLU(Z1)\n",
    "    Z2 = W2.dot(A1) + B2\n",
    "    A2 = ReLU(Z2)\n",
    "    Z3 = W3.dot(A2) + B3\n",
    "    A3 = softmax(Z3)\n",
    "    return Z1, Z2, Z3, A1, A2, A3\n",
    "\n",
    "def forward_prop(weights, biases, activations, training_data):\n",
    "    Zs = []\n",
    "    As = []\n",
    "    input = training_data\n",
    "    for i in range(len(weights)):\n",
    "        Zs.append(weights[i].dot(input) + biases[i])\n",
    "        As.append(activations[i](Zs[i]))\n",
    "        input = As[i]\n",
    "    \n",
    "    return Zs, As\n",
    "\n",
    "def back_prop_2L(Z1, A1, A2, W2, training_data, labels, sample_count):\n",
    "    dZ2 = A2 - labels\n",
    "    dW2 = dZ2.dot(A1.T) / sample_count\n",
    "    dB2 = np.sum(dZ2) / sample_count\n",
    "    dZ1 = W2.T.dot(dZ2) * (Z1 > 0)\n",
    "    dW1 = dZ1.dot(training_data.T) / sample_count\n",
    "    dB1 = np.sum(dZ1) / sample_count\n",
    "    return dW1, dW2, dB1, dB2\n",
    "\n",
    "def back_prop_3L(Z1, Z2, A1, A2, A3, W2, W3, training_data, labels, sample_count):\n",
    "    dZ3 = A3 - labels\n",
    "    dW3 = dZ3.dot(A2.T) / sample_count\n",
    "    dB3 = np.sum(dZ3) / sample_count\n",
    "    dZ2 = W3.T.dot(dZ3) * (Z2 > 0)\n",
    "    dW2 = dZ2.dot(A1.T) / sample_count\n",
    "    dB2 = np.sum(dZ2) / sample_count\n",
    "    dZ1 = W2.T.dot(dZ2) * (Z1 > 0)\n",
    "    dW1 = dZ1.dot(training_data.T) / sample_count\n",
    "    dB1 = np.sum(dZ1) / sample_count\n",
    "    return dW1, dW2, dW3, dB1, dB2, dB3"
   ]
  },
  {
   "cell_type": "markdown",
   "id": "dcabb76d",
   "metadata": {},
   "source": [
    "### Adjusting weights and biases after a training cycle"
   ]
  },
  {
   "cell_type": "code",
   "execution_count": 36,
   "id": "6416852c",
   "metadata": {},
   "outputs": [],
   "source": [
    "def weights_adjust_2L(W1, W2, dW1, dW2, learning_rate):\n",
    "    W1 = W1 - learning_rate * dW1\n",
    "    W2 = W2 - learning_rate * dW2\n",
    "    return W1, W2\n",
    "\n",
    "def weights_adjust_3L(W1, W2, W3, dW1, dW2, dW3, learning_rate):\n",
    "    W1 = W1 - learning_rate * dW1\n",
    "    W2 = W2 - learning_rate * dW2\n",
    "    W3 = W3 - learning_rate * dW3\n",
    "    return W1, W2, W3\n",
    "\n",
    "def biases_adjust_2L(B1, B2, dB1, dB2, learning_rate):\n",
    "    B1 = B1 - learning_rate * dB1\n",
    "    B2 = B2 - learning_rate * dB2\n",
    "    return B1, B2\n",
    "\n",
    "def biases_adjust_3L(B1, B2, B3, dB1, dB2, dB3, learning_rate):\n",
    "    B1 = B1 - learning_rate * dB1\n",
    "    B2 = B2 - learning_rate * dB2\n",
    "    B3 = B3 - learning_rate * dB3\n",
    "    return B1, B2, B3"
   ]
  },
  {
   "cell_type": "markdown",
   "id": "1562ac4a",
   "metadata": {},
   "source": [
    "### Initialization of weights and biases"
   ]
  },
  {
   "cell_type": "code",
   "execution_count": 37,
   "id": "1e3f74e1",
   "metadata": {},
   "outputs": [],
   "source": [
    "def weights_init_2L(width, start_width = PIXELS_PER_IMAGE, end_width = CLASSES_COUNT):\n",
    "    W1 = np.random.rand(width, start_width) - 0.5\n",
    "    W2 = np.random.rand(end_width, width) - 0.5\n",
    "    return W1, W2\n",
    "\n",
    "def weights_init_3L(l1_width, l2_width, start_width = PIXELS_PER_IMAGE, end_width = CLASSES_COUNT):\n",
    "    W1 = np.random.rand(l1_width, start_width) - 0.5\n",
    "    W2 = np.random.rand(l2_width, l1_width) - 0.5\n",
    "    W3 = np.random.rand(end_width, l2_width) - 0.5\n",
    "    return W1, W2, W3\n",
    "\n",
    "def weights_init(widths):\n",
    "    weights = []\n",
    "    for i in range(len(weights)-1):\n",
    "        weights.append(np.random.rand(widths[i + 1], widths[i]) - 0.5)\n",
    "    return weights\n",
    "\n",
    "def biases_init_2L(width, end_width = 10):\n",
    "    B1 = np.random.rand(width, 1) - 0.5\n",
    "    B2 = np.random.rand(end_width, 1) - 0.5\n",
    "    return B1, B2\n",
    "\n",
    "def biases_init_3L(l1_width, l2_width, end_width = CLASSES_COUNT):\n",
    "    B1 = np.random.rand(l1_width, 1) - 0.5\n",
    "    B2 = np.random.rand(l2_width, 1) - 0.5\n",
    "    B3 = np.random.rand(end_width, 1) - 0.5\n",
    "    return B1, B2, B3\n",
    "\n",
    "def biases_init(widths):\n",
    "    biases = []\n",
    "    for i in range(len(biases)):\n",
    "        biases.append(np.random.rand(widths[i], 1) - 0.5)\n",
    "    return biases"
   ]
  },
  {
   "cell_type": "markdown",
   "id": "cced063f",
   "metadata": {},
   "source": [
    "### Gradient descend"
   ]
  },
  {
   "cell_type": "code",
   "execution_count": 38,
   "id": "e515b0cd",
   "metadata": {},
   "outputs": [],
   "source": [
    "def gradient_descend_2L(training_data, labels, iterations, learning_rate):\n",
    "    W1, W2 = weights_init_2L(L1_SIZE)\n",
    "    B1, B2 = biases_init_2L(L1_SIZE)\n",
    "    one_hot_labels = one_hot(labels)\n",
    "\n",
    "    for _ in range(iterations):\n",
    "        Zs, As = forward_prop([W1, W2], [B1, B2], [ReLU, softmax], training_data)\n",
    "        Z1, Z2, A1, A2 = Zs[0], Zs[1], As[0], As[1]\n",
    "        dW1, dW2, dB1, dB2 = back_prop_2L(Z1, A1, A2, W2, training_data, one_hot_labels, labels.size)\n",
    "        W1, W2 = weights_adjust_2L(W1, W2, dW1, dW2, learning_rate)\n",
    "        B1, B2 = biases_adjust_2L(B1, B2, dB1, dB2, learning_rate)\n",
    "\n",
    "    return W1, W2, B1, B2\n",
    "\n",
    "def gradient_descend_3L(training_data, labels, iterations, learning_rate):\n",
    "    W1, W2, W3 = weights_init_3L(L1_SIZE, L2_SIZE)\n",
    "    B1, B2, B3 = biases_init_3L(L1_SIZE, L2_SIZE)\n",
    "    one_hot_labels = one_hot(labels)\n",
    "\n",
    "    for _ in range(iterations):\n",
    "        Z1, Z2, Z3, A1, A2, A3 = forward_prop_3L(W1, W2, W3, B1, B2, B3, training_data)\n",
    "        dW1, dW2, dW3, dB1, dB2, dB3 = back_prop_3L(Z1, Z2, A1, A2, A3, W2, W3, training_data, one_hot_labels, labels.size)\n",
    "        W1, W2, W3 = weights_adjust_3L(W1, W2, W3, dW1, dW2, dW3, learning_rate)\n",
    "        B1, B2, B3 = biases_adjust_3L(B1, B2, B3, dB1, dB2, dB3, learning_rate)\n",
    "\n",
    "    return W1, W2, W3, B1, B2, B3"
   ]
  },
  {
   "cell_type": "markdown",
   "id": "28e6c230",
   "metadata": {},
   "source": [
    "### Training functions"
   ]
  },
  {
   "cell_type": "code",
   "execution_count": 39,
   "id": "97ebb191",
   "metadata": {},
   "outputs": [],
   "source": [
    "def train_3L(training_data, training_labels, iterations, learning_rate):\n",
    "    W1, W2, W3, B1, B2, B3 = gradient_descend_3L(training_data, training_labels, iterations, learning_rate)\n",
    "\n",
    "    np.save(\"W1_3L.npy\", W1)\n",
    "    np.save(\"W2_3L.npy\", W2)\n",
    "    np.save(\"W3_3L.npy\", W3)\n",
    "    np.save(\"B1_3L.npy\", B1)\n",
    "    np.save(\"B2_3L.npy\", B2)\n",
    "    np.save(\"B3_3L.npy\", B3)\n",
    "\n",
    "def train_2L(training_data, training_labels, iterations, learning_rate):\n",
    "    W1, W2, B1, B2 = gradient_descend_2L(training_data, training_labels, iterations, learning_rate)\n",
    "\n",
    "    np.save(\"W1_2L.npy\", W1)\n",
    "    np.save(\"W2_2L.npy\", W2)\n",
    "    np.save(\"B1_2L.npy\", B1)\n",
    "    np.save(\"B2_2L.npy\", B2)"
   ]
  },
  {
   "cell_type": "markdown",
   "id": "ffef8553",
   "metadata": {},
   "source": [
    "### Loading of training and testing data"
   ]
  },
  {
   "cell_type": "code",
   "execution_count": 40,
   "id": "6f6b3a97",
   "metadata": {},
   "outputs": [],
   "source": [
    "def load_training_data():\n",
    "    training_data = idx2numpy.convert_from_file(\"mnist/train-images.idx3-ubyte\")\n",
    "    training_labels = idx2numpy.convert_from_file(\"mnist/train-labels.idx1-ubyte\")\n",
    "    sample_count = training_data.shape[0]\n",
    "    training_data = np.reshape(training_data, (sample_count, -1)).T / 255\n",
    "    return training_data, training_labels\n",
    "\n",
    "def load_test_data():\n",
    "    test_data = idx2numpy.convert_from_file(\"mnist/t10k-images.idx3-ubyte\")\n",
    "    test_labels = idx2numpy.convert_from_file(\"mnist/t10k-labels.idx1-ubyte\")\n",
    "    sample_count = test_data.shape[0]\n",
    "    test_data = np.reshape(test_data, (sample_count, -1)).T / 255\n",
    "    return test_data, test_labels"
   ]
  },
  {
   "cell_type": "markdown",
   "id": "9f136be3",
   "metadata": {},
   "source": [
    "### Training"
   ]
  },
  {
   "cell_type": "code",
   "execution_count": 41,
   "id": "66870650",
   "metadata": {},
   "outputs": [],
   "source": [
    "training_data, training_labels = load_training_data()\n",
    "#train_3L(training_data, training_labels, ITERATIONS, LEARNING_RATE)\n",
    "train_2L(training_data, training_labels, ITERATIONS, LEARNING_RATE)"
   ]
  },
  {
   "cell_type": "markdown",
   "id": "6a5c77a9",
   "metadata": {},
   "source": [
    "### Result assessment"
   ]
  },
  {
   "cell_type": "code",
   "execution_count": 42,
   "id": "1789e380",
   "metadata": {},
   "outputs": [
    {
     "name": "stdout",
     "output_type": "stream",
     "text": [
      "\n",
      "###################### 2 layers results ######################\n",
      "\n",
      "Accuracy on training set:  0.9060166666666667\n",
      "Accuracy on test set:  0.9083\n",
      "labeled: 0 -- classified: 5\n"
     ]
    },
    {
     "data": {
      "image/png": "[encoded data removed]",
      "text/plain": [
       "<Figure size 432x288 with 1 Axes>"
      ]
     },
     "metadata": {
      "needs_background": "light"
     },
     "output_type": "display_data"
    },
    {
     "name": "stdout",
     "output_type": "stream",
     "text": [
      "labeled: 4 -- classified: 6\n"
     ]
    },
    {
     "data": {
      "image/png": "[encoded data removed]",
      "text/plain": [
       "<Figure size 432x288 with 1 Axes>"
      ]
     },
     "metadata": {
      "needs_background": "light"
     },
     "output_type": "display_data"
    },
    {
     "name": "stdout",
     "output_type": "stream",
     "text": [
      "labeled: 2 -- classified: 3\n"
     ]
    },
    {
     "data": {
      "image/png": "[encoded data removed]",
      "text/plain": [
       "<Figure size 432x288 with 1 Axes>"
      ]
     },
     "metadata": {
      "needs_background": "light"
     },
     "output_type": "display_data"
    },
    {
     "name": "stdout",
     "output_type": "stream",
     "text": [
      "labeled: 2 -- classified: 7\n"
     ]
    },
    {
     "data": {
      "image/png": "[encoded data removed]",
      "text/plain": [
       "<Figure size 432x288 with 1 Axes>"
      ]
     },
     "metadata": {
      "needs_background": "light"
     },
     "output_type": "display_data"
    },
    {
     "name": "stdout",
     "output_type": "stream",
     "text": [
      "labeled: 2 -- classified: 5\n"
     ]
    },
    {
     "data": {
      "image/png": "[encoded data removed]",
      "text/plain": [
       "<Figure size 432x288 with 1 Axes>"
      ]
     },
     "metadata": {
      "needs_background": "light"
     },
     "output_type": "display_data"
    },
    {
     "name": "stdout",
     "output_type": "stream",
     "text": [
      "labeled: 6 -- classified: 5\n"
     ]
    },
    {
     "data": {
      "image/png": "[encoded data removed]",
      "text/plain": [
       "<Figure size 432x288 with 1 Axes>"
      ]
     },
     "metadata": {
      "needs_background": "light"
     },
     "output_type": "display_data"
    },
    {
     "name": "stdout",
     "output_type": "stream",
     "text": [
      "labeled: 8 -- classified: 9\n"
     ]
    },
    {
     "data": {
      "image/png": "[encoded data removed]",
      "text/plain": [
       "<Figure size 432x288 with 1 Axes>"
      ]
     },
     "metadata": {
      "needs_background": "light"
     },
     "output_type": "display_data"
    },
    {
     "name": "stdout",
     "output_type": "stream",
     "text": [
      "labeled: 9 -- classified: 4\n"
     ]
    },
    {
     "data": {
      "image/png": "[encoded data removed]",
      "text/plain": [
       "<Figure size 432x288 with 1 Axes>"
      ]
     },
     "metadata": {
      "needs_background": "light"
     },
     "output_type": "display_data"
    },
    {
     "name": "stdout",
     "output_type": "stream",
     "text": [
      "labeled: 3 -- classified: 8\n"
     ]
    },
    {
     "data": {
      "image/png": "[encoded data removed]",
      "text/plain": [
       "<Figure size 432x288 with 1 Axes>"
      ]
     },
     "metadata": {
      "needs_background": "light"
     },
     "output_type": "display_data"
    },
    {
     "name": "stdout",
     "output_type": "stream",
     "text": [
      "labeled: 5 -- classified: 6\n"
     ]
    },
    {
     "data": {
      "image/png": "[encoded data removed]",
      "text/plain": [
       "<Figure size 432x288 with 1 Axes>"
      ]
     },
     "metadata": {
      "needs_background": "light"
     },
     "output_type": "display_data"
    },
    {
     "name": "stdout",
     "output_type": "stream",
     "text": [
      "\n",
      "###################### 3 layers results ######################\n",
      "\n",
      "Accuracy on training set:  0.9107333333333333\n",
      "Accuracy on test set:  0.9117\n",
      "labeled: 5 -- classified: 8\n"
     ]
    },
    {
     "data": {
      "image/png": "[encoded data removed]",
      "text/plain": [
       "<Figure size 432x288 with 1 Axes>"
      ]
     },
     "metadata": {
      "needs_background": "light"
     },
     "output_type": "display_data"
    },
    {
     "name": "stdout",
     "output_type": "stream",
     "text": [
      "labeled: 5 -- classified: 6\n"
     ]
    },
    {
     "data": {
      "image/png": "[encoded data removed]",
      "text/plain": [
       "<Figure size 432x288 with 1 Axes>"
      ]
     },
     "metadata": {
      "needs_background": "light"
     },
     "output_type": "display_data"
    },
    {
     "name": "stdout",
     "output_type": "stream",
     "text": [
      "labeled: 3 -- classified: 2\n"
     ]
    },
    {
     "data": {
      "image/png": "[encoded data removed]",
      "text/plain": [
       "<Figure size 432x288 with 1 Axes>"
      ]
     },
     "metadata": {
      "needs_background": "light"
     },
     "output_type": "display_data"
    },
    {
     "name": "stdout",
     "output_type": "stream",
     "text": [
      "labeled: 5 -- classified: 8\n"
     ]
    },
    {
     "data": {
      "image/png": "[encoded data removed]",
      "text/plain": [
       "<Figure size 432x288 with 1 Axes>"
      ]
     },
     "metadata": {
      "needs_background": "light"
     },
     "output_type": "display_data"
    },
    {
     "name": "stdout",
     "output_type": "stream",
     "text": [
      "labeled: 1 -- classified: 8\n"
     ]
    },
    {
     "data": {
      "image/png": "[encoded data removed]",
      "text/plain": [
       "<Figure size 432x288 with 1 Axes>"
      ]
     },
     "metadata": {
      "needs_background": "light"
     },
     "output_type": "display_data"
    },
    {
     "name": "stdout",
     "output_type": "stream",
     "text": [
      "labeled: 2 -- classified: 9\n"
     ]
    },
    {
     "data": {
      "image/png": "[encoded data removed]",
      "text/plain": [
       "<Figure size 432x288 with 1 Axes>"
      ]
     },
     "metadata": {
      "needs_background": "light"
     },
     "output_type": "display_data"
    },
    {
     "name": "stdout",
     "output_type": "stream",
     "text": [
      "labeled: 3 -- classified: 2\n"
     ]
    },
    {
     "data": {
      "image/png": "[encoded data removed]",
      "text/plain": [
       "<Figure size 432x288 with 1 Axes>"
      ]
     },
     "metadata": {
      "needs_background": "light"
     },
     "output_type": "display_data"
    },
    {
     "name": "stdout",
     "output_type": "stream",
     "text": [
      "labeled: 5 -- classified: 8\n"
     ]
    },
    {
     "data": {
      "image/png": "[encoded data removed]",
      "text/plain": [
       "<Figure size 432x288 with 1 Axes>"
      ]
     },
     "metadata": {
      "needs_background": "light"
     },
     "output_type": "display_data"
    },
    {
     "name": "stdout",
     "output_type": "stream",
     "text": [
      "labeled: 2 -- classified: 4\n"
     ]
    },
    {
     "data": {
      "image/png": "[encoded data removed]",
      "text/plain": [
       "<Figure size 432x288 with 1 Axes>"
      ]
     },
     "metadata": {
      "needs_background": "light"
     },
     "output_type": "display_data"
    },
    {
     "name": "stdout",
     "output_type": "stream",
     "text": [
      "labeled: 7 -- classified: 9\n"
     ]
    },
    {
     "data": {
      "image/png": "[encoded data removed]",
      "text/plain": [
       "<Figure size 432x288 with 1 Axes>"
      ]
     },
     "metadata": {
      "needs_background": "light"
     },
     "output_type": "display_data"
    }
   ],
   "source": [
    "assess_2L()\n",
    "assess_3L()"
   ]
  }
 ],
 "metadata": {
  "kernelspec": {
   "display_name": "Python 3.10.4 64-bit",
   "language": "python",
   "name": "python3"
  },
  "language_info": {
   "codemirror_mode": {
    "name": "ipython",
    "version": 3
   },
   "file_extension": ".py",
   "mimetype": "text/x-python",
   "name": "python",
   "nbconvert_exporter": "python",
   "pygments_lexer": "ipython3",
   "version": "3.10.4"
  },
  "vscode": {
   "interpreter": {
    "hash": "31f2aee4e71d21fbe5cf8b01ff0e069b9275f58929596ceb00d14d90e3e16cd6"
   }
  }
 },
 "nbformat": 4,
 "nbformat_minor": 5
}
