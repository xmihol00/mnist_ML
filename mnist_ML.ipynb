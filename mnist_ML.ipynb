{
 "cells": [
  {
   "cell_type": "code",
   "execution_count": 79,
   "id": "e6aa62a3",
   "metadata": {},
   "outputs": [],
   "source": [
    "import idx2numpy\n",
    "import numpy as np\n",
    "import matplotlib.pyplot as plt\n",
    "from datetime import datetime as dt\n",
    "import random as rnd\n",
    "\n",
    "L1_SIZE = 56\n",
    "L2_SIZE = 28\n",
    "IMAGE_EDGE_SIZE = 28\n",
    "PIXELS_PER_IMAGE = IMAGE_EDGE_SIZE ** 2\n",
    "CLASSES_COUNT = 10\n",
    "ITERATIONS = 500\n",
    "LEARNING_RATE = 0.15"
   ]
  },
  {
   "cell_type": "markdown",
   "id": "cc4f253a",
   "metadata": {},
   "source": [
    "### Helper functions"
   ]
  },
  {
   "cell_type": "code",
   "execution_count": 80,
   "id": "ffc689fa",
   "metadata": {},
   "outputs": [],
   "source": [
    "def one_hot(labels):\n",
    "    one_hot = np.zeros((labels.size, 10))\n",
    "    one_hot[np.arange(labels.size), labels] = 1\n",
    "    return one_hot.T\n",
    "\n",
    "def get_accuracy(results, labels):\n",
    "    return (np.sum(np.argmax(results, 0) == labels) / labels.size)\n",
    "\n",
    "def show_some_mistakes(results, labels, data, samples = 10):\n",
    "    results = np.argmax(results, 0)\n",
    "    i = rnd.randint(0, labels.size)\n",
    "    j = 0\n",
    "    while j < samples:\n",
    "        i = (i + 1) % labels.size\n",
    "        if results[i] != labels[i]:\n",
    "            print(\"labeled:\", labels[i], \"-- classified:\", results[i])\n",
    "            plt.imshow(data[:, i].reshape((IMAGE_EDGE_SIZE, IMAGE_EDGE_SIZE)), cmap='gray')\n",
    "            plt.show()\n",
    "            j += 1\n",
    "\n",
    "def assess_2L():\n",
    "    W1 = np.load(\"W1_2L.npy\")\n",
    "    W2 = np.load(\"W2_2L.npy\")\n",
    "    B1 = np.load(\"B1_2L.npy\")\n",
    "    B2 = np.load(\"B2_2L.npy\")\n",
    "    print(\"\\n###################### 2 layers results ######################\\n\")\n",
    "\n",
    "    training_data, training_labels = load_training_data()\n",
    "    L1, L2 = forward_prop_2L(W1, W2, B1, B2, training_data)\n",
    "    print(\"Accuracy on training set: \", get_accuracy(L2, training_labels))\n",
    "\n",
    "    test_data, test_labels = load_test_data()\n",
    "    L1, L2 = forward_prop_2L(W1, W2, B1, B2, test_data)\n",
    "    print(\"Accuracy on test set: \", get_accuracy(L2, test_labels))\n",
    "\n",
    "    show_some_mistakes(L2, test_labels, test_data)\n",
    "\n",
    "def assess_3L():\n",
    "    W1 = np.load(\"W1_3L.npy\")\n",
    "    W2 = np.load(\"W2_3L.npy\")\n",
    "    W3 = np.load(\"W3_3L.npy\")\n",
    "    B1 = np.load(\"B1_3L.npy\")\n",
    "    B2 = np.load(\"B2_3L.npy\")\n",
    "    B3 = np.load(\"B3_3L.npy\")\n",
    "    print(\"\\n###################### 3 layers results ######################\\n\")\n",
    "\n",
    "    training_data, training_labels = load_training_data()\n",
    "    L1, L2, L3 = forward_prop_3L(W1, W2, W3, B1, B2, B3, training_data)\n",
    "    print(\"Accuracy on training set: \", get_accuracy(L3, training_labels))\n",
    "\n",
    "    test_data, test_labels = load_test_data()\n",
    "    L1, L2, L3 = forward_prop_3L(W1, W2, W3, B1, B2, B3, test_data)\n",
    "    print(\"Accuracy on test set: \", get_accuracy(L3, test_labels))\n",
    "\n",
    "    show_some_mistakes(L3, test_labels, test_data)"
   ]
  },
  {
   "cell_type": "markdown",
   "id": "e74aacbd",
   "metadata": {},
   "source": [
    "### Non linear functions"
   ]
  },
  {
   "cell_type": "code",
   "execution_count": 81,
   "id": "35d68cff",
   "metadata": {},
   "outputs": [],
   "source": [
    "def ReLU(L):\n",
    "    return np.maximum(0, L)\n",
    "\n",
    "def softmax(L):\n",
    "    return np.exp(L) / sum(np.exp(L))\n",
    "\n",
    "def sigmoid(L):\n",
    "    return 1 / (1 + np.exp(-L))\n",
    "\n",
    "def ReLU_deriv(L):\n",
    "    return L != 0"
   ]
  },
  {
   "cell_type": "markdown",
   "id": "3cb692aa",
   "metadata": {},
   "source": [
    "### Initialization of weights and biases"
   ]
  },
  {
   "cell_type": "code",
   "execution_count": 82,
   "id": "565c9303",
   "metadata": {},
   "outputs": [],
   "source": [
    "def weights_init_2L(size, start_size = PIXELS_PER_IMAGE, end_size = CLASSES_COUNT):\n",
    "    W1 = np.random.rand(size, start_size) - 0.5\n",
    "    W2 = np.random.rand(end_size, size) - 0.5\n",
    "    return W1, W2\n",
    "\n",
    "def weights_init_3L(l1_size, l2_size, start_size = PIXELS_PER_IMAGE, end_size = CLASSES_COUNT):\n",
    "    W1 = np.random.rand(l1_size, start_size) - 0.5\n",
    "    W2 = np.random.rand(l2_size, l1_size) - 0.5\n",
    "    W3 = np.random.rand(end_size, l2_size) - 0.5\n",
    "    return W1, W2, W3\n",
    "\n",
    "def weights_init(sizes):\n",
    "    weights = []\n",
    "    for i in range(len(sizes) - 1):\n",
    "        weights.append(np.random.rand(sizes[i + 1], sizes[i]) - 0.5)\n",
    "    return weights\n",
    "\n",
    "def biases_init_2L(size, end_size = 10):\n",
    "    B1 = np.random.rand(size, 1) - 0.5\n",
    "    B2 = np.random.rand(end_size, 1) - 0.5\n",
    "    return B1, B2\n",
    "\n",
    "def biases_init_3L(l1_size, l2_size, end_size = CLASSES_COUNT):\n",
    "    B1 = np.random.rand(l1_size, 1) - 0.5\n",
    "    B2 = np.random.rand(l2_size, 1) - 0.5\n",
    "    B3 = np.random.rand(end_size, 1) - 0.5\n",
    "    return B1, B2, B3\n",
    "\n",
    "def biases_init(sizes):\n",
    "    biases = []\n",
    "    for i in range(1, len(sizes)):\n",
    "        biases.append(np.random.rand(sizes[i], 1) - 0.5)\n",
    "    return biases"
   ]
  },
  {
   "cell_type": "markdown",
   "id": "dcabb76d",
   "metadata": {},
   "source": [
    "### Adjusting weights and biases after a training cycle"
   ]
  },
  {
   "cell_type": "code",
   "execution_count": 83,
   "id": "6416852c",
   "metadata": {},
   "outputs": [],
   "source": [
    "def weights_adjust_2L(W1, W2, dW1, dW2, learning_rate):\n",
    "    W1 = W1 - learning_rate * dW1\n",
    "    W2 = W2 - learning_rate * dW2\n",
    "    return W1, W2\n",
    "\n",
    "def weights_adjust_3L(W1, W2, W3, dW1, dW2, dW3, learning_rate):\n",
    "    W1 = W1 - learning_rate * dW1\n",
    "    W2 = W2 - learning_rate * dW2\n",
    "    W3 = W3 - learning_rate * dW3\n",
    "    return W1, W2, W3\n",
    "\n",
    "def weights_adjust(weights, weight_derivs, learning_rate):\n",
    "    for i in range(len(weights)):\n",
    "        weights[i] = weights[i] - learning_rate * weight_derivs[i]\n",
    "\n",
    "def biases_adjust_2L(B1, B2, dB1, dB2, learning_rate):\n",
    "    B1 = B1 - learning_rate * dB1\n",
    "    B2 = B2 - learning_rate * dB2\n",
    "    return B1, B2\n",
    "\n",
    "def biases_adjust_3L(B1, B2, B3, dB1, dB2, dB3, learning_rate):\n",
    "    B1 = B1 - learning_rate * dB1\n",
    "    B2 = B2 - learning_rate * dB2\n",
    "    B3 = B3 - learning_rate * dB3\n",
    "    return B1, B2, B3\n",
    "\n",
    "def biases_adjust(biases, bias_derivs, learning_rate):\n",
    "    for i in range(len(biases)):\n",
    "        biases[i] = biases[i] - learning_rate * bias_derivs[i]"
   ]
  },
  {
   "cell_type": "markdown",
   "id": "f3b90ee7",
   "metadata": {},
   "source": [
    "### Forward and backward propagation"
   ]
  },
  {
   "cell_type": "code",
   "execution_count": 84,
   "id": "f6dbe149",
   "metadata": {},
   "outputs": [],
   "source": [
    "def forward_prop_2L(W1, W2, B1, B2, training_data):\n",
    "    Z1 = W1.dot(training_data) + B1\n",
    "    L1 = ReLU(Z1)\n",
    "    Z2 = W2.dot(L1) + B2\n",
    "    L2 = softmax(Z2)\n",
    "    return L1, L2\n",
    "\n",
    "def forward_prop_3L(W1, W2, W3, B1, B2, B3, training_data):\n",
    "    Z1 = W1.dot(training_data) + B1\n",
    "    L1 = ReLU(Z1)\n",
    "    Z2 = W2.dot(L1) + B2\n",
    "    L2 = ReLU(Z2)\n",
    "    Z3 = W3.dot(L2) + B3\n",
    "    L3 = softmax(Z3)\n",
    "    return L1, L2, L3\n",
    "\n",
    "def forward_prop(weights, biases, activations, training_data):\n",
    "    layers = []\n",
    "    input = training_data\n",
    "    for i in range(len(weights)):\n",
    "        layers.append(activations[i](weights[i].dot(input) + biases[i]))\n",
    "        input = layers[i]\n",
    "    \n",
    "    return layers\n",
    "\n",
    "def back_prop_2L(L1, L2, W2, training_data, one_hot_labels):\n",
    "    normalization = one_hot_labels.shape[1]\n",
    "    dZ2 = L2 - one_hot_labels\n",
    "    dW2 = dZ2.dot(L1.T) / normalization\n",
    "    dB2 = np.sum(dZ2) / normalization\n",
    "    dZ1 = W2.T.dot(dZ2) * ReLU_deriv(L1)\n",
    "    dW1 = dZ1.dot(training_data.T) / normalization\n",
    "    dB1 = np.sum(dZ1) / normalization\n",
    "    return dW1, dW2, dB1, dB2\n",
    "\n",
    "def back_prop_3L(L1, L2, L3, W2, W3, training_data, one_hot_labels):\n",
    "    normalization = one_hot_labels.shape[1]\n",
    "    dZ3 = L3 - one_hot_labels\n",
    "    dW3 = dZ3.dot(L2.T) / normalization\n",
    "    dB3 = np.sum(dZ3) / normalization\n",
    "    dZ2 = W3.T.dot(dZ3) * ReLU_deriv(L2)\n",
    "    dW2 = dZ2.dot(L1.T) / normalization\n",
    "    dB2 = np.sum(dZ2) / normalization\n",
    "    dZ1 = W2.T.dot(dZ2) * ReLU_deriv(L1)\n",
    "    dW1 = dZ1.dot(training_data.T) / normalization\n",
    "    dB1 = np.sum(dZ1) / normalization\n",
    "    return dW1, dW2, dW3, dB1, dB2, dB3\n",
    "\n",
    "def back_prop(layers, weights, activation_derivs, training_data, one_hot_labels):\n",
    "    layers_count = len(layers)\n",
    "    normalization = one_hot_labels.shape[1]\n",
    "    weight_derivs = [None] * layers_count\n",
    "    bias_derivs = [None] * layers_count\n",
    "\n",
    "    current_deriv = layers[layers_count - 1] - one_hot_labels\n",
    "    for i in range(layers_count - 1, 0, -1):\n",
    "        weight_derivs[i] = current_deriv.dot(layers[i - 1].T) / normalization\n",
    "        bias_derivs[i] = np.sum(current_deriv) / normalization\n",
    "        current_deriv = weights[i].T.dot(current_deriv) * activation_derivs[i - 1](layers[i - 1])\n",
    "        \n",
    "    weight_derivs[0] = current_deriv.dot(training_data.T) / normalization\n",
    "    bias_derivs[0] = np.sum(current_deriv) / normalization\n",
    "\n",
    "    return weight_derivs, bias_derivs"
   ]
  },
  {
   "cell_type": "markdown",
   "id": "cced063f",
   "metadata": {},
   "source": [
    "### Gradient descend"
   ]
  },
  {
   "cell_type": "code",
   "execution_count": 85,
   "id": "e515b0cd",
   "metadata": {},
   "outputs": [],
   "source": [
    "def gradient_descend_2L(training_data, labels, iterations = ITERATIONS, learning_rate = LEARNING_RATE, L1_size = L1_SIZE):\n",
    "    W1, W2 = weights_init_2L(L1_size)\n",
    "    B1, B2 = biases_init_2L(L1_size)\n",
    "    labels = one_hot(labels)\n",
    "\n",
    "    for _ in range(iterations):\n",
    "        L1, L2 = forward_prop_2L(W1, W2, B1, B2, training_data)\n",
    "        dW1, dW2, dB1, dB2 = back_prop_2L(L1, L2, W2, training_data, labels)\n",
    "        W1, W2 = weights_adjust_2L(W1, W2, dW1, dW2, learning_rate)\n",
    "        B1, B2 = biases_adjust_2L(B1, B2, dB1, dB2, learning_rate)\n",
    "\n",
    "    return W1, W2, B1, B2\n",
    "\n",
    "def gradient_descend_3L(training_data, labels, iterations = ITERATIONS, learning_rate = LEARNING_RATE, L1_size = L1_SIZE, L2_size = L2_SIZE):\n",
    "    W1, W2, W3 = weights_init_3L(L1_size, L2_size)\n",
    "    B1, B2, B3 = biases_init_3L(L1_size, L2_size)\n",
    "    labels = one_hot(labels)\n",
    "\n",
    "    for _ in range(iterations):\n",
    "        L1, L2, L3 = forward_prop_3L(W1, W2, W3, B1, B2, B3, training_data)\n",
    "        dW1, dW2, dW3, dB1, dB2, dB3 = back_prop_3L(L1, L2, L3, W2, W3, training_data, labels)\n",
    "        W1, W2, W3 = weights_adjust_3L(W1, W2, W3, dW1, dW2, dW3, learning_rate)\n",
    "        B1, B2, B3 = biases_adjust_3L(B1, B2, B3, dB1, dB2, dB3, learning_rate)\n",
    "\n",
    "    return W1, W2, W3, B1, B2, B3\n",
    "\n",
    "def gradient_descend(weight_sizes, activations, activation_derivs, training_data, labels, iterations = ITERATIONS, learning_rate = LEARNING_RATE):\n",
    "    weights = weights_init(weight_sizes)\n",
    "    biases = biases_init(weight_sizes)\n",
    "    labels = one_hot(labels)\n",
    "\n",
    "    for _ in range(iterations):\n",
    "        layers = forward_prop(weights, biases, activations, training_data)\n",
    "        weight_derivs, bias_derivs = back_prop(layers, weights, activation_derivs, training_data, labels)\n",
    "        weights = weights_adjust(weights, weight_derivs, learning_rate)\n",
    "        biases = biases_adjust(biases, bias_derivs, learning_rate)\n",
    "\n",
    "    return weights, biases"
   ]
  },
  {
   "cell_type": "markdown",
   "id": "28e6c230",
   "metadata": {},
   "source": [
    "### Training functions"
   ]
  },
  {
   "cell_type": "code",
   "execution_count": 86,
   "id": "97ebb191",
   "metadata": {},
   "outputs": [],
   "source": [
    "def train_3L(training_data, training_labels, iterations, learning_rate):\n",
    "    W1, W2, W3, B1, B2, B3 = gradient_descend_3L(training_data, training_labels, iterations, learning_rate)\n",
    "\n",
    "    np.save(\"W1_3L.npy\", W1)\n",
    "    np.save(\"W2_3L.npy\", W2)\n",
    "    np.save(\"W3_3L.npy\", W3)\n",
    "    np.save(\"B1_3L.npy\", B1)\n",
    "    np.save(\"B2_3L.npy\", B2)\n",
    "    np.save(\"B3_3L.npy\", B3)\n",
    "\n",
    "def train_2L(training_data, training_labels, iterations, learning_rate):\n",
    "    W1, W2, B1, B2 = gradient_descend_2L(training_data, training_labels, iterations, learning_rate)\n",
    "\n",
    "    np.save(\"W1_2L.npy\", W1)\n",
    "    np.save(\"W2_2L.npy\", W2)\n",
    "    np.save(\"B1_2L.npy\", B1)\n",
    "    np.save(\"B2_2L.npy\", B2)"
   ]
  },
  {
   "cell_type": "markdown",
   "id": "ffef8553",
   "metadata": {},
   "source": [
    "### Loading of training and testing data"
   ]
  },
  {
   "cell_type": "code",
   "execution_count": 87,
   "id": "6f6b3a97",
   "metadata": {},
   "outputs": [],
   "source": [
    "def load_training_data():\n",
    "    training_data = idx2numpy.convert_from_file(\"mnist/train-images.idx3-ubyte\")\n",
    "    training_labels = idx2numpy.convert_from_file(\"mnist/train-labels.idx1-ubyte\")\n",
    "    sample_count = training_data.shape[0]\n",
    "    training_data = np.reshape(training_data, (sample_count, -1)).T / 255\n",
    "    return training_data, training_labels\n",
    "\n",
    "def load_test_data():\n",
    "    test_data = idx2numpy.convert_from_file(\"mnist/t10k-images.idx3-ubyte\")\n",
    "    test_labels = idx2numpy.convert_from_file(\"mnist/t10k-labels.idx1-ubyte\")\n",
    "    sample_count = test_data.shape[0]\n",
    "    test_data = np.reshape(test_data, (sample_count, -1)).T / 255\n",
    "    return test_data, test_labels"
   ]
  },
  {
   "cell_type": "markdown",
   "id": "9f136be3",
   "metadata": {},
   "source": [
    "### Training"
   ]
  },
  {
   "cell_type": "code",
   "execution_count": 88,
   "id": "66870650",
   "metadata": {},
   "outputs": [],
   "source": [
    "training_data, training_labels = load_training_data()\n",
    "#train_3L(training_data, training_labels)\n",
    "#train_2L(training_data, training_labels, 50)"
   ]
  },
  {
   "cell_type": "markdown",
   "id": "6a5c77a9",
   "metadata": {},
   "source": [
    "### Result assessment"
   ]
  },
  {
   "cell_type": "code",
   "execution_count": 89,
   "id": "1789e380",
   "metadata": {},
   "outputs": [
    {
     "name": "stdout",
     "output_type": "stream",
     "text": [
      "\n",
      "###################### 2 layers results ######################\n",
      "\n",
      "Accuracy on training set:  0.77495\n",
      "Accuracy on test set:  0.7832\n",
      "labeled: 9 -- classified: 7\n"
     ]
    },
    {
     "data": {
      "image/png": "[encoded data removed]",
      "text/plain": [
       "<Figure size 432x288 with 1 Axes>"
      ]
     },
     "metadata": {
      "needs_background": "light"
     },
     "output_type": "display_data"
    },
    {
     "name": "stdout",
     "output_type": "stream",
     "text": [
      "labeled: 9 -- classified: 4\n"
     ]
    },
    {
     "data": {
      "image/png": "[encoded data removed]",
      "text/plain": [
       "<Figure size 432x288 with 1 Axes>"
      ]
     },
     "metadata": {
      "needs_background": "light"
     },
     "output_type": "display_data"
    },
    {
     "name": "stdout",
     "output_type": "stream",
     "text": [
      "labeled: 7 -- classified: 9\n"
     ]
    },
    {
     "data": {
      "image/png": "[encoded data removed]",
      "text/plain": [
       "<Figure size 432x288 with 1 Axes>"
      ]
     },
     "metadata": {
      "needs_background": "light"
     },
     "output_type": "display_data"
    },
    {
     "name": "stdout",
     "output_type": "stream",
     "text": [
      "labeled: 5 -- classified: 9\n"
     ]
    },
    {
     "data": {
      "image/png": "[encoded data removed]",
      "text/plain": [
       "<Figure size 432x288 with 1 Axes>"
      ]
     },
     "metadata": {
      "needs_background": "light"
     },
     "output_type": "display_data"
    },
    {
     "name": "stdout",
     "output_type": "stream",
     "text": [
      "labeled: 4 -- classified: 5\n"
     ]
    },
    {
     "data": {
      "image/png": "[encoded data removed]",
      "text/plain": [
       "<Figure size 432x288 with 1 Axes>"
      ]
     },
     "metadata": {
      "needs_background": "light"
     },
     "output_type": "display_data"
    },
    {
     "name": "stdout",
     "output_type": "stream",
     "text": [
      "labeled: 2 -- classified: 8\n"
     ]
    },
    {
     "data": {
      "image/png": "[encoded data removed]",
      "text/plain": [
       "<Figure size 432x288 with 1 Axes>"
      ]
     },
     "metadata": {
      "needs_background": "light"
     },
     "output_type": "display_data"
    },
    {
     "name": "stdout",
     "output_type": "stream",
     "text": [
      "labeled: 8 -- classified: 3\n"
     ]
    },
    {
     "data": {
      "image/png": "[encoded data removed]",
      "text/plain": [
       "<Figure size 432x288 with 1 Axes>"
      ]
     },
     "metadata": {
      "needs_background": "light"
     },
     "output_type": "display_data"
    },
    {
     "name": "stdout",
     "output_type": "stream",
     "text": [
      "labeled: 4 -- classified: 1\n"
     ]
    },
    {
     "data": {
      "image/png": "[encoded data removed]",
      "text/plain": [
       "<Figure size 432x288 with 1 Axes>"
      ]
     },
     "metadata": {
      "needs_background": "light"
     },
     "output_type": "display_data"
    },
    {
     "name": "stdout",
     "output_type": "stream",
     "text": [
      "labeled: 7 -- classified: 9\n"
     ]
    },
    {
     "data": {
      "image/png": "[encoded data removed]",
      "text/plain": [
       "<Figure size 432x288 with 1 Axes>"
      ]
     },
     "metadata": {
      "needs_background": "light"
     },
     "output_type": "display_data"
    },
    {
     "name": "stdout",
     "output_type": "stream",
     "text": [
      "labeled: 2 -- classified: 7\n"
     ]
    },
    {
     "data": {
      "image/png": "[encoded data removed]",
      "text/plain": [
       "<Figure size 432x288 with 1 Axes>"
      ]
     },
     "metadata": {
      "needs_background": "light"
     },
     "output_type": "display_data"
    },
    {
     "name": "stdout",
     "output_type": "stream",
     "text": [
      "\n",
      "###################### 3 layers results ######################\n",
      "\n",
      "Accuracy on training set:  0.9107333333333333\n",
      "Accuracy on test set:  0.9117\n",
      "labeled: 7 -- classified: 9\n"
     ]
    },
    {
     "data": {
      "image/png": "[encoded data removed]",
      "text/plain": [
       "<Figure size 432x288 with 1 Axes>"
      ]
     },
     "metadata": {
      "needs_background": "light"
     },
     "output_type": "display_data"
    },
    {
     "name": "stdout",
     "output_type": "stream",
     "text": [
      "labeled: 9 -- classified: 4\n"
     ]
    },
    {
     "data": {
      "image/png": "[encoded data removed]",
      "text/plain": [
       "<Figure size 432x288 with 1 Axes>"
      ]
     },
     "metadata": {
      "needs_background": "light"
     },
     "output_type": "display_data"
    },
    {
     "name": "stdout",
     "output_type": "stream",
     "text": [
      "labeled: 9 -- classified: 4\n"
     ]
    },
    {
     "data": {
      "image/png": "[encoded data removed]",
      "text/plain": [
       "<Figure size 432x288 with 1 Axes>"
      ]
     },
     "metadata": {
      "needs_background": "light"
     },
     "output_type": "display_data"
    },
    {
     "name": "stdout",
     "output_type": "stream",
     "text": [
      "labeled: 9 -- classified: 4\n"
     ]
    },
    {
     "data": {
      "image/png": "[encoded data removed]",
      "text/plain": [
       "<Figure size 432x288 with 1 Axes>"
      ]
     },
     "metadata": {
      "needs_background": "light"
     },
     "output_type": "display_data"
    },
    {
     "name": "stdout",
     "output_type": "stream",
     "text": [
      "labeled: 2 -- classified: 3\n"
     ]
    },
    {
     "data": {
      "image/png": "[encoded data removed]",
      "text/plain": [
       "<Figure size 432x288 with 1 Axes>"
      ]
     },
     "metadata": {
      "needs_background": "light"
     },
     "output_type": "display_data"
    },
    {
     "name": "stdout",
     "output_type": "stream",
     "text": [
      "labeled: 7 -- classified: 3\n"
     ]
    },
    {
     "data": {
      "image/png": "[encoded data removed]",
      "text/plain": [
       "<Figure size 432x288 with 1 Axes>"
      ]
     },
     "metadata": {
      "needs_background": "light"
     },
     "output_type": "display_data"
    },
    {
     "name": "stdout",
     "output_type": "stream",
     "text": [
      "labeled: 3 -- classified: 7\n"
     ]
    },
    {
     "data": {
      "image/png": "[encoded data removed]",
      "text/plain": [
       "<Figure size 432x288 with 1 Axes>"
      ]
     },
     "metadata": {
      "needs_background": "light"
     },
     "output_type": "display_data"
    },
    {
     "name": "stdout",
     "output_type": "stream",
     "text": [
      "labeled: 4 -- classified: 9\n"
     ]
    },
    {
     "data": {
      "image/png": "[encoded data removed]",
      "text/plain": [
       "<Figure size 432x288 with 1 Axes>"
      ]
     },
     "metadata": {
      "needs_background": "light"
     },
     "output_type": "display_data"
    },
    {
     "name": "stdout",
     "output_type": "stream",
     "text": [
      "labeled: 6 -- classified: 0\n"
     ]
    },
    {
     "data": {
      "image/png": "[encoded data removed]",
      "text/plain": [
       "<Figure size 432x288 with 1 Axes>"
      ]
     },
     "metadata": {
      "needs_background": "light"
     },
     "output_type": "display_data"
    },
    {
     "name": "stdout",
     "output_type": "stream",
     "text": [
      "labeled: 2 -- classified: 8\n"
     ]
    },
    {
     "data": {
      "image/png": "[encoded data removed]",
      "text/plain": [
       "<Figure size 432x288 with 1 Axes>"
      ]
     },
     "metadata": {
      "needs_background": "light"
     },
     "output_type": "display_data"
    }
   ],
   "source": [
    "assess_2L()\n",
    "assess_3L()"
   ]
  },
  {
   "cell_type": "code",
   "execution_count": 90,
   "id": "4b5b577d",
   "metadata": {},
   "outputs": [
    {
     "name": "stdout",
     "output_type": "stream",
     "text": [
      "5\n",
      "4\n",
      "3\n",
      "2\n",
      "1\n",
      "0\n"
     ]
    }
   ],
   "source": [
    "for i in range(5, -1, -1):\n",
    "    print(i)"
   ]
  }
 ],
 "metadata": {
  "kernelspec": {
   "display_name": "Python 3.10.4 64-bit",
   "language": "python",
   "name": "python3"
  },
  "language_info": {
   "codemirror_mode": {
    "name": "ipython",
    "version": 3
   },
   "file_extension": ".py",
   "mimetype": "text/x-python",
   "name": "python",
   "nbconvert_exporter": "python",
   "pygments_lexer": "ipython3",
   "version": "3.10.4"
  },
  "vscode": {
   "interpreter": {
    "hash": "31f2aee4e71d21fbe5cf8b01ff0e069b9275f58929596ceb00d14d90e3e16cd6"
   }
  }
 },
 "nbformat": 4,
 "nbformat_minor": 5
}
