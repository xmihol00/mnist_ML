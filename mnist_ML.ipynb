{
 "cells": [
  {
   "cell_type": "code",
   "execution_count": 20,
   "id": "ffc689fa",
   "metadata": {},
   "outputs": [],
   "source": [
    "import idx2numpy\n",
    "import numpy as np\n",
    "import matplotlib.pyplot as plt\n",
    "from datetime import datetime as dt\n",
    "\n",
    "def one_hot(labels):\n",
    "    one_hot = np.zeros((labels.size, 10))\n",
    "    one_hot[np.arange(labels.size), labels] = 1\n",
    "    return one_hot.T\n",
    "\n",
    "def get_accuracy(results, labels):\n",
    "    return (np.sum(np.argmax(results, 0) == labels) / labels.size)\n",
    "\n",
    "def show_mistakes(results, labels, data, samples = 10):\n",
    "    results = np.argmax(results, 0)\n",
    "    j = 0\n",
    "    for i in range(labels.size):\n",
    "        if results[i] != labels[i]:\n",
    "            print(\"labeled: \", labels[i], \", classified: \", results[i])\n",
    "            plt.imshow(data[:,i].reshape((28, 28)), cmap='gray')\n",
    "            plt.show()\n",
    "            j += 1\n",
    "            if j == samples:\n",
    "                return\n"
   ]
  },
  {
   "cell_type": "markdown",
   "id": "e74aacbd",
   "metadata": {},
   "source": [
    "### Non linear functions"
   ]
  },
  {
   "cell_type": "code",
   "execution_count": 2,
   "id": "35d68cff",
   "metadata": {},
   "outputs": [],
   "source": [
    "def ReLU(Z):\n",
    "    return np.maximum(0, Z)\n",
    "\n",
    "def softmax(Z):\n",
    "    return np.exp(Z) / sum(np.exp(Z))\n",
    "\n",
    "def sigmoid(Z):\n",
    "    return 1 / (1 + np.exp(-Z))"
   ]
  },
  {
   "cell_type": "markdown",
   "id": "f3b90ee7",
   "metadata": {},
   "source": [
    "### Forward and backward propagation"
   ]
  },
  {
   "cell_type": "code",
   "execution_count": 3,
   "id": "f6dbe149",
   "metadata": {},
   "outputs": [],
   "source": [
    "def forward_prop(W1, W2, B1, B2, training_data):\n",
    "    Z1 = W1.dot(training_data) + B1\n",
    "    A1 = ReLU(Z1)\n",
    "    Z2 = W2.dot(A1) + B2\n",
    "    A2 = softmax(Z2)\n",
    "    return Z1, Z2, A1, A2\n",
    "\n",
    "def back_prop(Z1, A1, A2, W2, training_data, labels, rows):\n",
    "    dZ2 = A2 - labels\n",
    "    dW2 = (1 / rows) * dZ2.dot(A1.T)\n",
    "    dB2 = (1 / rows) * np.sum(dZ2)\n",
    "    dZ1 = W2.T.dot(dZ2) * (Z1 > 0)\n",
    "    dW1 = (1 / rows) * dZ1.dot(training_data.T)\n",
    "    dB1 = (1 / rows) * np.sum(dZ1)\n",
    "    return dW1, dW2, dB1, dB2"
   ]
  },
  {
   "cell_type": "markdown",
   "id": "dcabb76d",
   "metadata": {},
   "source": [
    "### Adjusting weights and biases after a training cycle"
   ]
  },
  {
   "cell_type": "code",
   "execution_count": 4,
   "id": "6416852c",
   "metadata": {},
   "outputs": [],
   "source": [
    "def weights_adjust(W1, W2, dW1, dW2, learning_rate):\n",
    "    W1 = W1 - learning_rate * dW1\n",
    "    W2 = W2 - learning_rate * dW2\n",
    "    return W1, W2\n",
    "\n",
    "def biases_adjust(B1, B2, dB1, dB2, learning_rate):\n",
    "    B1 = B1 - learning_rate * dB1\n",
    "    B2 = B2 - learning_rate * dB2\n",
    "    return B1, B2"
   ]
  },
  {
   "cell_type": "markdown",
   "id": "1562ac4a",
   "metadata": {},
   "source": [
    "### Initialization of weights and biases"
   ]
  },
  {
   "cell_type": "code",
   "execution_count": 5,
   "id": "1e3f74e1",
   "metadata": {},
   "outputs": [],
   "source": [
    "def weights_init():\n",
    "    W1 = np.random.rand(56, 784) - 0.5\n",
    "    W2 = np.random.rand(10, 56) - 0.5\n",
    "    return W1, W2\n",
    "\n",
    "def biases_init():\n",
    "    B1 = np.random.rand(56, 1) - 0.5\n",
    "    B2 = np.random.rand(10, 1) - 0.5\n",
    "    return B1, B2"
   ]
  },
  {
   "cell_type": "markdown",
   "id": "cced063f",
   "metadata": {},
   "source": [
    "### Gradient descend"
   ]
  },
  {
   "cell_type": "code",
   "execution_count": 6,
   "id": "e515b0cd",
   "metadata": {},
   "outputs": [],
   "source": [
    "def gradient_descend(training_data, labels, iterations, learning_rate):\n",
    "    W1, W2 = weights_init()\n",
    "    B1, B2 = biases_init()\n",
    "    one_hot_labels = one_hot(labels)\n",
    "\n",
    "    for i in range(iterations):\n",
    "        Z1, Z2, A1, A2 = forward_prop(W1, W2, B1, B2, training_data)\n",
    "        dW1, dW2, dB1, dB2 = back_prop(Z1, A1, A2, W2, training_data, one_hot_labels, labels.size)\n",
    "        W1, W2 = weights_adjust(W1, W2, dW1, dW2, learning_rate)\n",
    "        B1, B2 = biases_adjust(B1, B2, dB1, dB2, learning_rate)\n",
    "\n",
    "    return W1, W2, B1, B2"
   ]
  },
  {
   "cell_type": "markdown",
   "id": "28e6c230",
   "metadata": {},
   "source": [
    "### Training"
   ]
  },
  {
   "cell_type": "code",
   "execution_count": 11,
   "id": "97ebb191",
   "metadata": {},
   "outputs": [],
   "source": [
    "training_data = idx2numpy.convert_from_file(\"mnist/train-images.idx3-ubyte\")\n",
    "training_labels = idx2numpy.convert_from_file(\"mnist/train-labels.idx1-ubyte\")\n",
    "#plt.imshow(data[2,:,:], cmap='gray')\n",
    "#plt.show()\n",
    "rows, _, _ = training_data.shape\n",
    "training_data = np.reshape(training_data, (rows, -1)).T / 255\n",
    "\n",
    "W1, W2, B1, B2 = gradient_descend(training_data, training_labels, 500, 0.1)\n",
    "\n",
    "np.save(\"W1_56_10.npy\", W1)\n",
    "np.save(\"W2_56_10.npy\", W2)\n",
    "np.save(\"B1_56_10.npy\", B1)\n",
    "np.save(\"B2_56_10.npy\", B2)"
   ]
  },
  {
   "cell_type": "markdown",
   "id": "6a5c77a9",
   "metadata": {},
   "source": [
    "### Results"
   ]
  },
  {
   "cell_type": "code",
   "execution_count": 22,
   "id": "1789e380",
   "metadata": {},
   "outputs": [
    {
     "name": "stdout",
     "output_type": "stream",
     "text": [
      "Accuracy on training set:  0.8828166666666667\n",
      "Accuracy on test set:  0.881\n",
      "labeled:  5 , classified:  6\n"
     ]
    },
    {
     "data": {
      "image/png": "[encoded data removed]",
      "text/plain": [
       "<Figure size 432x288 with 1 Axes>"
      ]
     },
     "metadata": {
      "needs_background": "light"
     },
     "output_type": "display_data"
    },
    {
     "name": "stdout",
     "output_type": "stream",
     "text": [
      "labeled:  4 , classified:  6\n"
     ]
    },
    {
     "data": {
      "image/png": "[encoded data removed]",
      "text/plain": [
       "<Figure size 432x288 with 1 Axes>"
      ]
     },
     "metadata": {
      "needs_background": "light"
     },
     "output_type": "display_data"
    },
    {
     "name": "stdout",
     "output_type": "stream",
     "text": [
      "labeled:  6 , classified:  2\n"
     ]
    },
    {
     "data": {
      "image/png": "[encoded data removed]",
      "text/plain": [
       "<Figure size 432x288 with 1 Axes>"
      ]
     },
     "metadata": {
      "needs_background": "light"
     },
     "output_type": "display_data"
    },
    {
     "name": "stdout",
     "output_type": "stream",
     "text": [
      "labeled:  3 , classified:  2\n"
     ]
    },
    {
     "data": {
      "image/png": "[encoded data removed]",
      "text/plain": [
       "<Figure size 432x288 with 1 Axes>"
      ]
     },
     "metadata": {
      "needs_background": "light"
     },
     "output_type": "display_data"
    },
    {
     "name": "stdout",
     "output_type": "stream",
     "text": [
      "labeled:  6 , classified:  2\n"
     ]
    },
    {
     "data": {
      "image/png": "[encoded data removed]",
      "text/plain": [
       "<Figure size 432x288 with 1 Axes>"
      ]
     },
     "metadata": {
      "needs_background": "light"
     },
     "output_type": "display_data"
    },
    {
     "name": "stdout",
     "output_type": "stream",
     "text": [
      "labeled:  2 , classified:  7\n"
     ]
    },
    {
     "data": {
      "image/png": "[encoded data removed]",
      "text/plain": [
       "<Figure size 432x288 with 1 Axes>"
      ]
     },
     "metadata": {
      "needs_background": "light"
     },
     "output_type": "display_data"
    },
    {
     "name": "stdout",
     "output_type": "stream",
     "text": [
      "labeled:  3 , classified:  5\n"
     ]
    },
    {
     "data": {
      "image/png": "[encoded data removed]",
      "text/plain": [
       "<Figure size 432x288 with 1 Axes>"
      ]
     },
     "metadata": {
      "needs_background": "light"
     },
     "output_type": "display_data"
    },
    {
     "name": "stdout",
     "output_type": "stream",
     "text": [
      "labeled:  9 , classified:  8\n"
     ]
    },
    {
     "data": {
      "image/png": "[encoded data removed]",
      "text/plain": [
       "<Figure size 432x288 with 1 Axes>"
      ]
     },
     "metadata": {
      "needs_background": "light"
     },
     "output_type": "display_data"
    },
    {
     "name": "stdout",
     "output_type": "stream",
     "text": [
      "labeled:  5 , classified:  8\n"
     ]
    },
    {
     "data": {
      "image/png": "[encoded data removed]",
      "text/plain": [
       "<Figure size 432x288 with 1 Axes>"
      ]
     },
     "metadata": {
      "needs_background": "light"
     },
     "output_type": "display_data"
    },
    {
     "name": "stdout",
     "output_type": "stream",
     "text": [
      "labeled:  4 , classified:  9\n"
     ]
    },
    {
     "data": {
      "image/png": "[encoded data removed]",
      "text/plain": [
       "<Figure size 432x288 with 1 Axes>"
      ]
     },
     "metadata": {
      "needs_background": "light"
     },
     "output_type": "display_data"
    },
    {
     "name": "stdout",
     "output_type": "stream",
     "text": [
      "labeled:  2 , classified:  4\n"
     ]
    },
    {
     "data": {
      "image/png": "[encoded data removed]",
      "text/plain": [
       "<Figure size 432x288 with 1 Axes>"
      ]
     },
     "metadata": {
      "needs_background": "light"
     },
     "output_type": "display_data"
    },
    {
     "name": "stdout",
     "output_type": "stream",
     "text": [
      "labeled:  2 , classified:  3\n"
     ]
    },
    {
     "data": {
      "image/png": "[encoded data removed]",
      "text/plain": [
       "<Figure size 432x288 with 1 Axes>"
      ]
     },
     "metadata": {
      "needs_background": "light"
     },
     "output_type": "display_data"
    },
    {
     "name": "stdout",
     "output_type": "stream",
     "text": [
      "labeled:  9 , classified:  4\n"
     ]
    },
    {
     "data": {
      "image/png": "[encoded data removed]",
      "text/plain": [
       "<Figure size 432x288 with 1 Axes>"
      ]
     },
     "metadata": {
      "needs_background": "light"
     },
     "output_type": "display_data"
    },
    {
     "name": "stdout",
     "output_type": "stream",
     "text": [
      "labeled:  6 , classified:  5\n"
     ]
    },
    {
     "data": {
      "image/png": "[encoded data removed]",
      "text/plain": [
       "<Figure size 432x288 with 1 Axes>"
      ]
     },
     "metadata": {
      "needs_background": "light"
     },
     "output_type": "display_data"
    },
    {
     "name": "stdout",
     "output_type": "stream",
     "text": [
      "labeled:  8 , classified:  7\n"
     ]
    },
    {
     "data": {
      "image/png": "[encoded data removed]",
      "text/plain": [
       "<Figure size 432x288 with 1 Axes>"
      ]
     },
     "metadata": {
      "needs_background": "light"
     },
     "output_type": "display_data"
    },
    {
     "name": "stdout",
     "output_type": "stream",
     "text": [
      "labeled:  9 , classified:  7\n"
     ]
    },
    {
     "data": {
      "image/png": "[encoded data removed]",
      "text/plain": [
       "<Figure size 432x288 with 1 Axes>"
      ]
     },
     "metadata": {
      "needs_background": "light"
     },
     "output_type": "display_data"
    },
    {
     "name": "stdout",
     "output_type": "stream",
     "text": [
      "labeled:  9 , classified:  5\n"
     ]
    },
    {
     "data": {
      "image/png": "[encoded data removed]",
      "text/plain": [
       "<Figure size 432x288 with 1 Axes>"
      ]
     },
     "metadata": {
      "needs_background": "light"
     },
     "output_type": "display_data"
    },
    {
     "name": "stdout",
     "output_type": "stream",
     "text": [
      "labeled:  3 , classified:  6\n"
     ]
    },
    {
     "data": {
      "image/png": "[encoded data removed]",
      "text/plain": [
       "<Figure size 432x288 with 1 Axes>"
      ]
     },
     "metadata": {
      "needs_background": "light"
     },
     "output_type": "display_data"
    },
    {
     "name": "stdout",
     "output_type": "stream",
     "text": [
      "labeled:  4 , classified:  2\n"
     ]
    },
    {
     "data": {
      "image/png": "[encoded data removed]",
      "text/plain": [
       "<Figure size 432x288 with 1 Axes>"
      ]
     },
     "metadata": {
      "needs_background": "light"
     },
     "output_type": "display_data"
    },
    {
     "name": "stdout",
     "output_type": "stream",
     "text": [
      "labeled:  9 , classified:  4\n"
     ]
    },
    {
     "data": {
      "image/png": "[encoded data removed]",
      "text/plain": [
       "<Figure size 432x288 with 1 Axes>"
      ]
     },
     "metadata": {
      "needs_background": "light"
     },
     "output_type": "display_data"
    }
   ],
   "source": [
    "W1 = np.load(\"W1_56_10.npy\")\n",
    "W2 = np.load(\"W2_56_10.npy\")\n",
    "B1 = np.load(\"B1_56_10.npy\")\n",
    "B2 = np.load(\"B2_56_10.npy\")\n",
    "\n",
    "training_data = idx2numpy.convert_from_file(\"mnist/train-images.idx3-ubyte\")\n",
    "training_labels = idx2numpy.convert_from_file(\"mnist/train-labels.idx1-ubyte\")\n",
    "rows, _, _ = training_data.shape\n",
    "training_data = np.reshape(training_data, (rows, -1)).T / 255\n",
    "\n",
    "Z1, Z2, A1, A2 = forward_prop(W1, W2, B1, B2, training_data)\n",
    "print(\"Accuracy on training set: \", get_accuracy(A2, training_labels))\n",
    "\n",
    "\n",
    "test_data = idx2numpy.convert_from_file(\"mnist/t10k-images.idx3-ubyte\")\n",
    "test_labels = idx2numpy.convert_from_file(\"mnist/t10k-labels.idx1-ubyte\")\n",
    "rows, _, _ = test_data.shape\n",
    "test_data = np.reshape(test_data, (rows, -1)).T / 255\n",
    "\n",
    "Z1, Z2, A1, A2 = forward_prop(W1, W2, B1, B2, test_data)\n",
    "print(\"Accuracy on test set: \", get_accuracy(A2, test_labels))\n",
    "\n",
    "show_mistakes(A2, test_labels, test_data, 20)"
   ]
  }
 ],
 "metadata": {
  "kernelspec": {
   "display_name": "Python 3.10.4 64-bit",
   "language": "python",
   "name": "python3"
  },
  "language_info": {
   "codemirror_mode": {
    "name": "ipython",
    "version": 3
   },
   "file_extension": ".py",
   "mimetype": "text/x-python",
   "name": "python",
   "nbconvert_exporter": "python",
   "pygments_lexer": "ipython3",
   "version": "3.10.4"
  },
  "vscode": {
   "interpreter": {
    "hash": "31f2aee4e71d21fbe5cf8b01ff0e069b9275f58929596ceb00d14d90e3e16cd6"
   }
  }
 },
 "nbformat": 4,
 "nbformat_minor": 5
}
